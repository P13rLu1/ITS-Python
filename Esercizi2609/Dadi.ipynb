{
 "cells": [
  {
   "metadata": {},
   "cell_type": "markdown",
   "source": "# Lancio Di Un Dado",
   "id": "aabbc3a29084d191"
  },
  {
   "metadata": {
    "ExecuteTime": {
     "end_time": "2024-10-01T16:12:48.366655Z",
     "start_time": "2024-10-01T16:12:48.354441Z"
    }
   },
   "cell_type": "code",
   "source": [
    "import random\n",
    "import statistics as stat\n",
    "\n",
    "numero_facce = 15\n",
    "numero_lanci = 10\n",
    "\n",
    "\n",
    "def lancio_dado(numero_facce,numero_lanci):\n",
    "    # somma = 0\n",
    "    esito_array = []\n",
    "    # n = 0\n",
    "    for i in range(numero_lanci):\n",
    "        # random.seed(i*2)\n",
    "        esito = random.randint(1,numero_facce)\n",
    "        # print(esito)\n",
    "        # somma += esito\n",
    "        esito_array.append(esito)\n",
    "        # print(f\"Iterazione {i+1}: esito = {esito}\")\n",
    "    return esito_array\n",
    "    \n",
    "# media = lancio_dado(numero_facce,numero_lanci)\n",
    "# print(media)\n",
    "\n",
    "\n",
    "# esito_array = lancio_dado(numero_facce,numero_lanci)\n",
    "# media_array = stat.mean(esito_array)\n",
    "# print(f\"La media è {media_array}\")\n",
    "\n",
    "\n",
    "print(\"------------------\")\n",
    "\n",
    "def lancio_dado(numero_facce,numero_lanci):\n",
    "    somma = 0\n",
    "    # esito_array = []\n",
    "    # n = 0\n",
    "    for i in range(numero_lanci):\n",
    "        # random.seed(i*2)\n",
    "        esito = random.randint(1,numero_facce)\n",
    "        # print(esito)\n",
    "        somma += esito\n",
    "        # esito_array.append(esito)\n",
    "        # print(f\"Iterazione {i+1}: esito = {esito}\")\n",
    "    return somma/numero_lanci\n",
    "\n",
    "\n",
    "start_lanci =10\n",
    "end_lanci = 100\n",
    "step = 10\n",
    "\n",
    "for j in range(start_lanci,end_lanci,step):\n",
    "    media = lancio_dado(numero_facce,end_lanci)\n",
    "    print(f\"La media della distibuzione su {j} lanci è {media}.\")\n",
    "\n",
    "\n",
    "print(\"------------------\")\n",
    "\n",
    "#sommatoria(x_i*p_i)\n",
    "media_statistica = 1/15 * (sum(range(1,16)))\n",
    "print(f\"La media statistica è {media_statistica}.\")"
   ],
   "id": "2734258fa5c5abb3",
   "outputs": [
    {
     "name": "stdout",
     "output_type": "stream",
     "text": [
      "------------------\n",
      "La media della distibuzione su 10 lanci è 7.64.\n",
      "La media della distibuzione su 20 lanci è 7.69.\n",
      "La media della distibuzione su 30 lanci è 7.76.\n",
      "La media della distibuzione su 40 lanci è 7.33.\n",
      "La media della distibuzione su 50 lanci è 7.4.\n",
      "La media della distibuzione su 60 lanci è 8.3.\n",
      "La media della distibuzione su 70 lanci è 8.26.\n",
      "La media della distibuzione su 80 lanci è 6.92.\n",
      "La media della distibuzione su 90 lanci è 8.78.\n",
      "------------------\n",
      "La media statistica è 8.0.\n"
     ]
    }
   ],
   "execution_count": 1
  },
  {
   "metadata": {
    "ExecuteTime": {
     "end_time": "2024-10-01T16:13:10.654954Z",
     "start_time": "2024-10-01T16:13:10.648818Z"
    }
   },
   "cell_type": "code",
   "source": [
    "random.seed(5)\n",
    "a = random.randint(1,15)\n",
    "print(a)\n"
   ],
   "id": "d2dc4ff49772f973",
   "outputs": [
    {
     "name": "stdout",
     "output_type": "stream",
     "text": [
      "10\n"
     ]
    }
   ],
   "execution_count": 15
  }
 ],
 "metadata": {
  "kernelspec": {
   "display_name": "Python 3",
   "language": "python",
   "name": "python3"
  },
  "language_info": {
   "codemirror_mode": {
    "name": "ipython",
    "version": 2
   },
   "file_extension": ".py",
   "mimetype": "text/x-python",
   "name": "python",
   "nbconvert_exporter": "python",
   "pygments_lexer": "ipython2",
   "version": "2.7.6"
  }
 },
 "nbformat": 4,
 "nbformat_minor": 5
}
