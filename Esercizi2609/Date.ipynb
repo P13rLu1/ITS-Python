{
 "cells": [
  {
   "metadata": {},
   "cell_type": "markdown",
   "source": "# Formati Di Date",
   "id": "9b9bf8f2f828c9a6"
  },
  {
   "metadata": {
    "ExecuteTime": {
     "end_time": "2024-10-01T16:15:02.133896Z",
     "start_time": "2024-10-01T16:15:02.121269Z"
    }
   },
   "cell_type": "code",
   "source": [
    "from datetime import datetime\n",
    "from pytz import timezone\n",
    "\n",
    "data_oggi = datetime.now()\n",
    "data_oggi = data_oggi.date()\n",
    "print(data_oggi)\n"
   ],
   "id": "2ab6f9456c23a1bf",
   "outputs": [
    {
     "name": "stdout",
     "output_type": "stream",
     "text": [
      "2024-10-01\n"
     ]
    }
   ],
   "execution_count": 1
  },
  {
   "metadata": {},
   "cell_type": "markdown",
   "source": "### Quanti giorni mancano a Natale?",
   "id": "c16dd8499d737b1"
  },
  {
   "metadata": {
    "ExecuteTime": {
     "end_time": "2024-10-01T16:15:36.728699Z",
     "start_time": "2024-10-01T16:15:36.723765Z"
    }
   },
   "cell_type": "code",
   "source": [
    "print(\"Quanti giorni mancano a Natale?\")\n",
    "\n",
    "natale_str = \"25/12/2024 00:00\"\n",
    "\n",
    "natale_dt = datetime.strptime(natale_str, \"%d/%m/%Y %H:%M\")\n",
    "#print(type(natale_dt))\n",
    "natale_dt = natale_dt.date()\n",
    "\n",
    "\n",
    "year_nat = 2024\n",
    "month_nat=12\n",
    "day_nat=25\n",
    "natale_dt2 = datetime(year = year_nat, month = month_nat, day = day_nat)\n",
    "natale_dt2 = natale_dt2.date()\n",
    "print(natale_dt2)\n",
    "\n",
    "diff_giorni = natale_dt2 - data_oggi\n",
    "\n",
    "# diff_giorni_str = datetime.strftime(diff_giorni)\n",
    "\n",
    "\n",
    "print(f\"Mancano {diff_giorni}.\")"
   ],
   "id": "f8a95e80bf130805",
   "outputs": [
    {
     "name": "stdout",
     "output_type": "stream",
     "text": [
      "Quanti giorni mancano a Natale?\n",
      "2024-12-25\n",
      "Mancano 85 days, 0:00:00.\n"
     ]
    }
   ],
   "execution_count": 2
  }
 ],
 "metadata": {
  "kernelspec": {
   "display_name": "Python 3",
   "language": "python",
   "name": "python3"
  },
  "language_info": {
   "codemirror_mode": {
    "name": "ipython",
    "version": 2
   },
   "file_extension": ".py",
   "mimetype": "text/x-python",
   "name": "python",
   "nbconvert_exporter": "python",
   "pygments_lexer": "ipython2",
   "version": "2.7.6"
  }
 },
 "nbformat": 4,
 "nbformat_minor": 5
}
