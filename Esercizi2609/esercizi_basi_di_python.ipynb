{
 "cells": [
  {
   "metadata": {},
   "cell_type": "markdown",
   "source": "# Basi di Python",
   "id": "542950caf1eeb0e7"
  },
  {
   "metadata": {},
   "cell_type": "markdown",
   "source": "## Variabili e tipi di dati",
   "id": "c7e1cbe8e8a97cd6"
  },
  {
   "metadata": {},
   "cell_type": "code",
   "source": [
    "numero = 5\n",
    "numero_stringa = \"5\"\n",
    "nome = \"Mario\"\n",
    "\n",
    "print(f\"numero: {numero}, tipo: {type(numero)}\")\n",
    "print(f\"numero_stringa: {numero_stringa}, tipo: {type(numero_stringa)}\")\n",
    "print(f\"il numero è\" + \" \" + numero_stringa)\n",
    "print(f\"Il Numero è {numero}\")"
   ],
   "id": "75b45f49d4afbba7",
   "outputs": [],
   "execution_count": null
  },
  {
   "metadata": {},
   "cell_type": "code",
   "source": [
    "numero_decimale = 5.3\n",
    "print(type(numero_decimale))\n",
    "\n",
    "numero_intero = int(numero_decimale)\n",
    "print(numero_intero)\n",
    "print(type(numero_intero))\n",
    "\n",
    "b = 12\n",
    "print(\"il numero è\", str(b))\n",
    "\n",
    "b = 15\n",
    "doppio = 2*int(b)\n",
    "print(doppio)"
   ],
   "id": "56a2a5b499343911",
   "outputs": [],
   "execution_count": null
  },
  {
   "metadata": {},
   "cell_type": "markdown",
   "source": "## Liste",
   "id": "d54dc7951d50dcb5"
  },
  {
   "metadata": {},
   "cell_type": "code",
   "source": [
    "lista = [1, 2, 3, 4, 5]\n",
    "\n",
    "print(lista[1])"
   ],
   "id": "155170fc859f032",
   "outputs": [],
   "execution_count": null
  },
  {
   "metadata": {},
   "cell_type": "code",
   "source": [
    "numeri = range(2,10,2)\n",
    "print(type(numeri))\n",
    "# print(numeri)\n",
    "\n",
    "\n",
    "for i in reversed(numeri):\n",
    "    # print(numeri[i])\n",
    "    print(i)"
   ],
   "id": "402cf0ad5613d385",
   "outputs": [],
   "execution_count": null
  },
  {
   "metadata": {},
   "cell_type": "code",
   "source": [
    "numeri = range(2,30,3)\n",
    "length = len(numeri)\n",
    "print(length)\n",
    "\n",
    "\n",
    "for indice in reversed(range(0,length)):\n",
    "    #print(f\"L'indice dell'iterazione è {indice+1}.\")\n",
    "    print(\"L'indice dell'iterazione è \" + str(indice+1) + \".\")\n",
    "    elemento = numeri[indice]\n",
    "    print(f\"L'elemento dell'iterazione è {elemento}.\\n\")\n",
    "    "
   ],
   "id": "3c77f3b518efc818",
   "outputs": [],
   "execution_count": null
  },
  {
   "metadata": {},
   "cell_type": "code",
   "source": [
    "#while\n",
    "\n",
    "numeri = range(30)\n",
    "length = len(numeri)\n",
    "print(length)\n",
    "print(\"\\n\")\n",
    "\n",
    "i = 0\n",
    "# while i < 10:\n",
    "#     print(numeri[i])\n",
    "#     i = i+1\n",
    "    \n",
    "    \n",
    "i = 0\n",
    "while True:\n",
    "    print(numeri[i])\n",
    "    # i = i+1\n",
    "    i += 1\n",
    "    if i > length-1:\n",
    "        break\n",
    "    "
   ],
   "id": "d0876ff218bc0edc",
   "outputs": [],
   "execution_count": null
  },
  {
   "metadata": {},
   "cell_type": "markdown",
   "source": "## Esempi con libreria **os**",
   "id": "9099fc1cdec356ed"
  },
  {
   "metadata": {
    "ExecuteTime": {
     "end_time": "2024-10-01T16:05:50.293026Z",
     "start_time": "2024-10-01T16:05:50.289003Z"
    }
   },
   "cell_type": "code",
   "source": [
    "import os\n",
    "\n",
    "dove_sono = os.getcwd()\n",
    "print(dove_sono)"
   ],
   "id": "e90c9b3eacc4cd60",
   "outputs": [
    {
     "name": "stdout",
     "output_type": "stream",
     "text": [
      "C:\\Users\\Pier\\Documents\\ITS-Python\\Esercizi2609\n"
     ]
    }
   ],
   "execution_count": 9
  },
  {
   "metadata": {
    "ExecuteTime": {
     "end_time": "2024-10-01T16:07:26.853429Z",
     "start_time": "2024-10-01T16:07:26.846952Z"
    }
   },
   "cell_type": "code",
   "source": "%cd \"./Dataset\"",
   "id": "748ef448ead5d94e",
   "outputs": [
    {
     "name": "stdout",
     "output_type": "stream",
     "text": [
      "[WinError 2] Impossibile trovare il file specificato: './Dataset'\n",
      "C:\\Users\\Pier\\Documents\\ITS-Python\\Esercizi2609\\Dataset\n"
     ]
    }
   ],
   "execution_count": 17
  },
  {
   "metadata": {
    "ExecuteTime": {
     "end_time": "2024-10-01T16:07:58.347835Z",
     "start_time": "2024-10-01T16:07:58.342673Z"
    }
   },
   "cell_type": "code",
   "source": [
    "dove_sono = os.getcwd()\n",
    "print(dove_sono)\n",
    "print(type(dove_sono))\n",
    "list_files = os.listdir(dove_sono)\n",
    "print(list_files)"
   ],
   "id": "348c50bac376a16e",
   "outputs": [
    {
     "name": "stdout",
     "output_type": "stream",
     "text": [
      "C:\\Users\\Pier\\Documents\\ITS-Python\\Esercizi2609\\Dataset\n",
      "<class 'str'>\n",
      "[]\n"
     ]
    }
   ],
   "execution_count": 18
  },
  {
   "metadata": {
    "ExecuteTime": {
     "end_time": "2024-10-01T16:08:40.112646Z",
     "start_time": "2024-10-01T16:08:40.105742Z"
    }
   },
   "cell_type": "code",
   "source": [
    "try:\n",
    "    os.mkdir(dove_sono + f\"/folder_1\")\n",
    "except:\n",
    "    #print(\"La cartella esiste già.\")\n",
    "    pass\n",
    "\n",
    "\n",
    "path = f\"{dove_sono}/folder_1\"\n",
    "%cd {path}\n",
    "new_dove_sono = os.getcwd()\n",
    "print(new_dove_sono)"
   ],
   "id": "c110e3782c59466e",
   "outputs": [
    {
     "name": "stdout",
     "output_type": "stream",
     "text": [
      "C:\\Users\\Pier\\Documents\\ITS-Python\\Esercizi2609\\Dataset\\folder_1\n",
      "C:\\Users\\Pier\\Documents\\ITS-Python\\Esercizi2609\\Dataset\\folder_1\n"
     ]
    }
   ],
   "execution_count": 19
  },
  {
   "metadata": {},
   "cell_type": "markdown",
   "source": "## Liste con funzioni matematiche",
   "id": "4f98c8700246ea92"
  },
  {
   "metadata": {
    "ExecuteTime": {
     "end_time": "2024-10-01T16:09:25.186620Z",
     "start_time": "2024-10-01T16:09:25.181948Z"
    }
   },
   "cell_type": "code",
   "source": [
    "lista = [2, 6, 7]\n",
    "\n",
    "somma = sum(lista)\n",
    "print(somma)\n",
    "\n",
    "print(min(lista))\n",
    "print(max(lista))\n",
    "# print(mean(lista)) #funzione mean non supportata"
   ],
   "id": "58c47442b0a52e7c",
   "outputs": [
    {
     "name": "stdout",
     "output_type": "stream",
     "text": [
      "15\n",
      "2\n",
      "7\n"
     ]
    }
   ],
   "execution_count": 20
  },
  {
   "metadata": {},
   "cell_type": "markdown",
   "source": "### Libreria Statistics",
   "id": "a4caef815cdced72"
  },
  {
   "metadata": {
    "ExecuteTime": {
     "end_time": "2024-10-01T16:09:50.292364Z",
     "start_time": "2024-10-01T16:09:50.283544Z"
    }
   },
   "cell_type": "code",
   "source": [
    "import statistics as stat\n",
    "\n",
    "lista = [2, 6, 7, 3, 3, 5, 5, 9, 0, 12]\n",
    "\n",
    "print(stat.mean(lista))\n",
    "print(stat.median(lista))\n",
    "print(stat.mode(lista))"
   ],
   "id": "4be6117acc1a2dad",
   "outputs": [
    {
     "name": "stdout",
     "output_type": "stream",
     "text": [
      "5.2\n",
      "5.0\n",
      "3\n"
     ]
    }
   ],
   "execution_count": 21
  },
  {
   "metadata": {},
   "cell_type": "markdown",
   "source": "### Libreria random",
   "id": "58c94390271a2de0"
  },
  {
   "metadata": {
    "ExecuteTime": {
     "end_time": "2024-10-01T16:10:16.109665Z",
     "start_time": "2024-10-01T16:10:16.103763Z"
    }
   },
   "cell_type": "code",
   "source": [
    "import random\n",
    "\n",
    "for i in range(10):\n",
    "    casuale = random.randint(100, 999)\n",
    "    print(casuale)"
   ],
   "id": "73514272347cdf46",
   "outputs": [
    {
     "name": "stdout",
     "output_type": "stream",
     "text": [
      "661\n",
      "491\n",
      "190\n",
      "788\n",
      "146\n",
      "955\n",
      "119\n",
      "451\n",
      "441\n",
      "772\n"
     ]
    }
   ],
   "execution_count": 22
  }
 ],
 "metadata": {
  "kernelspec": {
   "display_name": "Python 3",
   "language": "python",
   "name": "python3"
  },
  "language_info": {
   "codemirror_mode": {
    "name": "ipython",
    "version": 2
   },
   "file_extension": ".py",
   "mimetype": "text/x-python",
   "name": "python",
   "nbconvert_exporter": "python",
   "pygments_lexer": "ipython2",
   "version": "2.7.6"
  }
 },
 "nbformat": 4,
 "nbformat_minor": 5
}
