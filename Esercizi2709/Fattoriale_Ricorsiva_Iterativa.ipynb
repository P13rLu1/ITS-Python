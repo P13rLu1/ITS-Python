{
 "cells": [
  {
   "metadata": {},
   "cell_type": "markdown",
   "source": "# Calcolo Del Fattoriale",
   "id": "9081bb7e6f3c2bd"
  },
  {
   "metadata": {
    "ExecuteTime": {
     "end_time": "2024-10-01T14:43:55.493752Z",
     "start_time": "2024-10-01T14:43:55.490322Z"
    }
   },
   "cell_type": "code",
   "source": "numero = 5",
   "id": "b9f018930b8c6161",
   "outputs": [],
   "execution_count": 29
  },
  {
   "metadata": {},
   "cell_type": "markdown",
   "source": "### Funzione Ricorsiva",
   "id": "eb1d3ef3e1426b38"
  },
  {
   "metadata": {
    "ExecuteTime": {
     "end_time": "2024-10-01T14:43:57.175866Z",
     "start_time": "2024-10-01T14:43:57.172337Z"
    }
   },
   "cell_type": "code",
   "source": [
    "def fattoriale_ricorsivo(numero):\n",
    "    risultato = 1\n",
    "    if numero == 0:\n",
    "        risultato = 1\n",
    "    else:\n",
    "        risultato = numero * fattoriale_ricorsivo(numero - 1)\n",
    "    return risultato"
   ],
   "id": "dd8391a03930de25",
   "outputs": [],
   "execution_count": 32
  },
  {
   "metadata": {},
   "cell_type": "markdown",
   "source": "### Funzione Iterativa",
   "id": "13545b70f4bc1f45"
  },
  {
   "metadata": {
    "ExecuteTime": {
     "end_time": "2024-10-01T14:43:59.252617Z",
     "start_time": "2024-10-01T14:43:59.249583Z"
    }
   },
   "cell_type": "code",
   "source": [
    "def fattoriale_iterativo(numero):\n",
    "    risultato = 1\n",
    "    for i in range(1, numero + 1):\n",
    "        risultato *= i\n",
    "    return risultato"
   ],
   "id": "5eae6de31d341931",
   "outputs": [],
   "execution_count": 34
  },
  {
   "metadata": {
    "ExecuteTime": {
     "end_time": "2024-10-01T14:44:01.462466Z",
     "start_time": "2024-10-01T14:44:01.457947Z"
    }
   },
   "cell_type": "code",
   "source": [
    "print(f\"Fattoriale Ricorsivo: {fattoriale_ricorsivo(numero)}\")\n",
    "\n",
    "print(f\"Fattoriale Iterativo: {fattoriale_iterativo(numero)}\")"
   ],
   "id": "c802fb6b1701a9a3",
   "outputs": [
    {
     "name": "stdout",
     "output_type": "stream",
     "text": [
      "Fattoriale Ricorsivo: 120\n",
      "Fattoriale Iterativo: 120\n"
     ]
    }
   ],
   "execution_count": 35
  }
 ],
 "metadata": {
  "kernelspec": {
   "display_name": "Python 3",
   "language": "python",
   "name": "python3"
  },
  "language_info": {
   "codemirror_mode": {
    "name": "ipython",
    "version": 2
   },
   "file_extension": ".py",
   "mimetype": "text/x-python",
   "name": "python",
   "nbconvert_exporter": "python",
   "pygments_lexer": "ipython2",
   "version": "2.7.6"
  }
 },
 "nbformat": 4,
 "nbformat_minor": 5
}
