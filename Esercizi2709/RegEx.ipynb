{
 "cells": [
  {
   "metadata": {},
   "cell_type": "markdown",
   "source": "# Regular Expressions",
   "id": "b46ae17046e00d11"
  },
  {
   "metadata": {},
   "cell_type": "code",
   "source": [
    "testo = \"\"\"Lorem ipsum dolor sit amet, consectetur adipiscing elit, sed do eiusmod tempor incididunt ut labore\n",
    "et dolore magna aliqua. Ut enim ad minim veniam, quis nostrud exercitation ullamco laboris nisi ut aliquip\n",
    "ex ea commodo consequat. Duis aute irure dolor in reprehenderit in voluptate velit esse cillum dolore eu\n",
    "fugiat nulla pariatur. Excepteur sint occaecat cupidatat non proident, sunt in culpa qui officia deserunt\n",
    "mollit anim id est laborum.\n",
    "\n",
    "LLLLLLLLLoLoLorem\n",
    "1974er1222\n",
    "$%/())))=m\"\"\"\n",
    "\n",
    "print(testo)"
   ],
   "id": "799932310c8eae12",
   "outputs": [],
   "execution_count": null
  },
  {
   "metadata": {},
   "cell_type": "markdown",
   "source": "## Operazione con import re",
   "id": "39e960567f1d9343"
  },
  {
   "metadata": {},
   "cell_type": "code",
   "source": [
    "import re\n",
    "# nuovo_testo = re.sub(r\"[eaiou]\",\"H\",testo)\n",
    "# nuovo_testo = re.sub(r\"[a-z]\",\"H\",testo)\n",
    "# nuovo_testo = re.sub(r\"[^eaiou]\",\".\",testo) #[^aei] sostituisce tutto ciò che non fa il match con aei\n",
    "# nuovo_testo = re.sub(r\"(?=[A-Z])(?=[L-M])[A-B]\",\"H\",testo) #TBD\n",
    "# nuovo_testo = re.sub(r\"[A-Z+[a-z]]\",\"H\",testo) #TBD\n",
    "# nuovo_testo = re.sub(r\"^[L]\",\"H\",testo) #caratteri iniziali di un insieme\n",
    "# nuovo_testo = re.sub(r\"^Lor\",\"H\",testo) #caratteri iniziali esatti\n",
    "# nuovo_testo = re.sub(r\"[m]$\",\"H\",testo)\n",
    "# nuovo_testo = re.sub(r\"tu*\",\"H\",testo)\n",
    "# nuovo_testo = re.sub(r\"L{2}\",\"H\",testo) #numero esatto di occorrenze\n",
    "# nuovo_testo = re.sub(r\"L{2,}\",\"H\",testo)  #numero minimo di occorrenze\n",
    "# nuovo_testo = re.sub(r\"L{2,4}\",\"H\",testo)  #numero fissato di occorrenze\n",
    "# nuovo_testo = re.sub(r\"\\d\",\"H\",testo) #cifre (in Java, \"\\\\d\")\n",
    "# nuovo_testo = re.sub(r\"\\D\",\"H\",testo) #tutto tranne cifre\n",
    "# nuovo_testo = re.sub(r\"\\s\",\"H\",testo) #spazi\n",
    "# nuovo_testo = re.sub(r\"\\S\",\"H\",testo) #tutto tranne spazi\n",
    "# nuovo_testo = re.sub(r\"\\w\",\"H\",testo) #cifre e lettere\n",
    "nuovo_testo = re.sub(r\"\\W\",\"H\",testo) #caratteri speciali (include punteggiatura, spazi, ritorni a capo)\n",
    "print(nuovo_testo)"
   ],
   "id": "953c999c8dac080",
   "outputs": [],
   "execution_count": null
  }
 ],
 "metadata": {
  "kernelspec": {
   "display_name": "Python 3",
   "language": "python",
   "name": "python3"
  },
  "language_info": {
   "codemirror_mode": {
    "name": "ipython",
    "version": 2
   },
   "file_extension": ".py",
   "mimetype": "text/x-python",
   "name": "python",
   "nbconvert_exporter": "python",
   "pygments_lexer": "ipython2",
   "version": "2.7.6"
  }
 },
 "nbformat": 4,
 "nbformat_minor": 5
}
