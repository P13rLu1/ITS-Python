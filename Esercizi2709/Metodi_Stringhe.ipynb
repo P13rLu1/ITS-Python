{
 "cells": [
  {
   "cell_type": "markdown",
   "id": "a5b84be4917d9def",
   "metadata": {
    "jp-MarkdownHeadingCollapsed": true
   },
   "source": [
    "## Metodi per le stringhe"
   ]
  },
  {
   "cell_type": "code",
   "execution_count": null,
   "id": "3417c34bc53b6c89",
   "metadata": {},
   "outputs": [],
   "source": [
    "my_string_original = \"    Ciao, oggi siamo all'ITS a Lecce. Il corso che facciamo è Developer.\\n\""
   ]
  },
  {
   "cell_type": "markdown",
   "id": "5f86a9bd082a9d8f",
   "metadata": {},
   "source": [
    "- Metodo lower()"
   ]
  },
  {
   "cell_type": "code",
   "execution_count": null,
   "id": "2f738e4c3ae3ff54",
   "metadata": {},
   "outputs": [],
   "source": [
    "my_string = my_string_original.lower()\n",
    "print(my_string)"
   ]
  },
  {
   "cell_type": "markdown",
   "id": "9b73f3eabdb427de",
   "metadata": {},
   "source": [
    "- Metodo upper()"
   ]
  },
  {
   "cell_type": "code",
   "execution_count": null,
   "id": "360942aa5ab1a93b",
   "metadata": {},
   "outputs": [],
   "source": [
    "my_string = my_string_original.upper()\n",
    "print(my_string)"
   ]
  },
  {
   "cell_type": "markdown",
   "id": "3b0fc385ef3d371c",
   "metadata": {
    "jp-MarkdownHeadingCollapsed": true
   },
   "source": [
    "## RegEx"
   ]
  },
  {
   "cell_type": "code",
   "execution_count": null,
   "id": "9453d5d45cdd94d9",
   "metadata": {},
   "outputs": [],
   "source": [
    "my_string = \"Ciao, oggi siamo all'ITS a Lecce e ci sono DRFRVVV27 gradi. Il corso che facciamo è Deve loper\"\n",
    "\n",
    "import re\n",
    "# new_string = re.sub(\"'\",\" \", my_string)\n",
    "# new_string = re.sub(r\"[A-Z12]\", \"@\", my_string)\n",
    "# new_string = re.sub(r\"[a-z]+,\", \"@\", my_string)\n",
    "# new_string = re.sub(r\"[A-Z0-9]\", \"@\", my_string)\n",
    "new_string = re.sub(r\" +[e-r]\", \"@\", my_string) # queta espressione regolare cerca uno o più spazi seguiti da una lettera compresa tra e e r\n",
    "print(new_string)"
   ]
  },
  {
   "cell_type": "markdown",
   "id": "24735058449cd85c",
   "metadata": {
    "jp-MarkdownHeadingCollapsed": true
   },
   "source": [
    "## Funzioni per le stringhe"
   ]
  },
  {
   "cell_type": "markdown",
   "id": "7e6ae55cf23368de",
   "metadata": {},
   "source": [
    "### Strip"
   ]
  },
  {
   "cell_type": "code",
   "execution_count": null,
   "id": "25fdea8353af41bf",
   "metadata": {},
   "outputs": [],
   "source": [
    "my_string_original = \"\\n    Ciao, oggi siamo all'ITS a Lecce. Il corso ch\\ne facciamo è Developer.\\n\"\n",
    "\n",
    "print(\"-------------\")\n",
    "print(my_string_original)\n",
    "print(\"-------------\")\n",
    "\n",
    "print(my_string_original.strip())\n",
    "print(\"-------------\")"
   ]
  },
  {
   "cell_type": "markdown",
   "id": "4d7d6d5db3ec3f3",
   "metadata": {},
   "source": [
    "### Split"
   ]
  },
  {
   "cell_type": "code",
   "execution_count": null,
   "id": "42ee489f1db2a83f",
   "metadata": {},
   "outputs": [],
   "source": [
    "date_format_string = \"12-03-2023T11:34\"\n",
    "lista = date_format_string.split(\"T\")\n",
    "print(lista)\n",
    "print(type(lista))\n",
    "data = lista[0]\n",
    "print(data)\n",
    "orario = lista[1]\n",
    "print(orario)\n"
   ]
  },
  {
   "cell_type": "code",
   "execution_count": null,
   "id": "5acc3748a4ce4738",
   "metadata": {},
   "outputs": [],
   "source": [
    "lista = my_string_original.split(\" \")\n",
    "print(lista)\n",
    "print(\"------\")\n",
    "for i in range(0,len(lista)):\n",
    "    print(lista[i])"
   ]
  },
  {
   "cell_type": "markdown",
   "id": "992ffd506af7ad34",
   "metadata": {
    "jp-MarkdownHeadingCollapsed": true
   },
   "source": [
    "## Separazione del testo in parole"
   ]
  },
  {
   "cell_type": "code",
   "execution_count": null,
   "id": "4ef2ef4f915e8691",
   "metadata": {},
   "outputs": [],
   "source": [
    "my_string_original = \"     Ciao, oggi siamo al corso a Lecce. Il corso che facciamo è Developer.\\n\""
   ]
  },
  {
   "cell_type": "code",
   "execution_count": null,
   "id": "54993c9f7dfb0daf",
   "metadata": {},
   "outputs": [],
   "source": [
    "import re\n",
    "my_string_original_cleaned = my_string_original.strip()\n",
    "my_string_original_cleaned = re.sub(r\"[^\\w\\s]\", \"\", my_string_original_cleaned) # rimuove i caratteri speciali\n",
    "print(my_string_original_cleaned)\n",
    "lista_parole = my_string_original_cleaned.split(\" \")\n",
    "print(lista_parole)"
   ]
  },
  {
   "cell_type": "markdown",
   "id": "98fc07204efb30c9",
   "metadata": {},
   "source": [
    "- Ricostruzione del testo"
   ]
  },
  {
   "cell_type": "code",
   "execution_count": null,
   "id": "790af317d5fad8bf",
   "metadata": {},
   "outputs": [],
   "source": [
    "my_string_restored = \" \".join(lista_parole)\n",
    "print(my_string_restored)"
   ]
  },
  {
   "cell_type": "markdown",
   "id": "d7d41ace56025c80",
   "metadata": {
    "jp-MarkdownHeadingCollapsed": true
   },
   "source": [
    "## Esercizi"
   ]
  },
  {
   "cell_type": "markdown",
   "id": "731bac907666fa62",
   "metadata": {
    "jp-MarkdownHeadingCollapsed": true
   },
   "source": [
    "### 1. Scrivere una funzione che ritorna i caratteri di una stringa al contrario"
   ]
  },
  {
   "cell_type": "markdown",
   "id": "127636af014b5019",
   "metadata": {},
   "source": [
    "#### Accesso agli elementi della lista con passo -1"
   ]
  },
  {
   "cell_type": "code",
   "execution_count": null,
   "id": "4ea21641067b476b",
   "metadata": {},
   "outputs": [],
   "source": [
    "nome = \"Pierluigi\"\n",
    "\n",
    "lettere = nome[0]\n",
    "\n",
    "def nome_al_contrario(nome):\n",
    "    return nome[::-1]\n",
    "\n",
    "print(nome_al_contrario(nome))"
   ]
  },
  {
   "cell_type": "markdown",
   "id": "a4557aaff830986b",
   "metadata": {},
   "source": [
    "#### Accesso agli elementi della lista con ciclo for"
   ]
  },
  {
   "cell_type": "code",
   "execution_count": null,
   "id": "1c57c4c201439b52",
   "metadata": {},
   "outputs": [],
   "source": [
    "nome = \"Pierluigi\"\n",
    "\n",
    "def nome_al_contrario(nome):\n",
    "    nome_contrario = \"\"\n",
    "    for char in nome:\n",
    "        nome_contrario = char + nome_contrario\n",
    "    return nome_contrario\n",
    "\n",
    "print(nome_al_contrario(nome))"
   ]
  },
  {
   "cell_type": "markdown",
   "id": "2b45f9d1f9851f6a",
   "metadata": {
    "jp-MarkdownHeadingCollapsed": true
   },
   "source": [
    "### 2. Rimuovere le occorrenze di un carattere da una stringa"
   ]
  },
  {
   "cell_type": "markdown",
   "id": "8e1a53a0434931c9",
   "metadata": {},
   "source": [
    "#### Replace"
   ]
  },
  {
   "cell_type": "code",
   "execution_count": 16,
   "id": "ab394b527cca6c8b",
   "metadata": {
    "ExecuteTime": {
     "end_time": "2024-10-01T15:16:58.215285Z",
     "start_time": "2024-10-01T15:16:58.205299Z"
    }
   },
   "outputs": [
    {
     "name": "stdout",
     "output_type": "stream",
     "text": [
      "Ciao a tutti\n",
      "Ciao a ui\n"
     ]
    }
   ],
   "source": [
    "stringa = \"Ciao a tutti\"\n",
    "print(stringa)\n",
    "\n",
    "char = \"t\"\n",
    "\n",
    "stringa_removed = stringa.replace('t',\"\")\n",
    "print(stringa_removed)"
   ]
  },
  {
   "cell_type": "markdown",
   "id": "fdd102d068da5db",
   "metadata": {},
   "source": [
    "#### RegEx per rimuovere le occorrenze di un carattere"
   ]
  },
  {
   "cell_type": "code",
   "execution_count": 17,
   "id": "630fc86883d6091e",
   "metadata": {
    "ExecuteTime": {
     "end_time": "2024-10-01T15:17:44.626679Z",
     "start_time": "2024-10-01T15:17:44.613999Z"
    }
   },
   "outputs": [
    {
     "name": "stdout",
     "output_type": "stream",
     "text": [
      "Ciao a tutti\n",
      "Ciao a ui\n"
     ]
    }
   ],
   "source": [
    "stringa = \"Ciao a tutti\"\n",
    "print(stringa)\n",
    "\n",
    "regEx = \"t\"\n",
    "\n",
    "import re\n",
    "\n",
    "stringa_removed = re.sub(r\"t\",\"\",stringa)\n",
    "print(stringa_removed)"
   ]
  },
  {
   "cell_type": "markdown",
   "id": "c4b4921604dd0777",
   "metadata": {},
   "source": [
    "#### Con Ciclo for"
   ]
  },
  {
   "cell_type": "code",
   "execution_count": 18,
   "id": "43b8e88dface256e",
   "metadata": {
    "ExecuteTime": {
     "end_time": "2024-10-01T15:18:41.591450Z",
     "start_time": "2024-10-01T15:18:41.573380Z"
    }
   },
   "outputs": [
    {
     "name": "stdout",
     "output_type": "stream",
     "text": [
      "Ciao a tutti\n",
      "Ciao a ui\n"
     ]
    }
   ],
   "source": [
    "stringa = \"Ciao a tutti\"\n",
    "print(stringa)\n",
    "\n",
    "carattereDaRimuovere = \"t\"\n",
    "\n",
    "def remove_char(stringa,toremoveChar):\n",
    "    nuova_stringa = \"\"\n",
    "    for char in stringa:\n",
    "        if char != toremoveChar:\n",
    "            nuova_stringa += char\n",
    "    return nuova_stringa\n",
    "\n",
    "print(remove_char(stringa,carattereDaRimuovere))"
   ]
  },
  {
   "cell_type": "markdown",
   "id": "30d51fd9543c062b",
   "metadata": {
    "jp-MarkdownHeadingCollapsed": true
   },
   "source": [
    "### 3. Scrivi una funzione che toglie i duplicati"
   ]
  },
  {
   "cell_type": "code",
   "execution_count": 19,
   "id": "861bba71af3c23ca",
   "metadata": {
    "ExecuteTime": {
     "end_time": "2024-10-01T15:20:13.261140Z",
     "start_time": "2024-10-01T15:20:13.251470Z"
    }
   },
   "outputs": [
    {
     "name": "stdout",
     "output_type": "stream",
     "text": [
      "Misp\n"
     ]
    }
   ],
   "source": [
    "stringa = \"Mississippi\"\n",
    "\n",
    "def rimuove_duplicati(stringa):\n",
    "    stringaCarattUnivoci = \"\"\n",
    "    for i in stringa:\n",
    "        if i not in stringaCarattUnivoci:\n",
    "            stringaCarattUnivoci += i\n",
    "    return stringaCarattUnivoci\n",
    "\n",
    "print(rimuove_duplicati(stringa))"
   ]
  },
  {
   "cell_type": "markdown",
   "id": "4ae4e854fa7fb11a",
   "metadata": {
    "jp-MarkdownHeadingCollapsed": true
   },
   "source": [
    "### 4. Contare le occorrenze di una parola in una stringa"
   ]
  },
  {
   "cell_type": "code",
   "execution_count": 20,
   "id": "5fde9b3a4ac0630",
   "metadata": {
    "ExecuteTime": {
     "end_time": "2024-10-01T15:21:23.700406Z",
     "start_time": "2024-10-01T15:21:23.684602Z"
    }
   },
   "outputs": [
    {
     "name": "stdout",
     "output_type": "stream",
     "text": [
      "ana\n",
      "nan\n",
      "ana\n",
      "nas\n",
      "2\n"
     ]
    }
   ],
   "source": [
    "stringa = \"ananas\"\n",
    "substr = \"ana\"\n",
    "\n",
    "\n",
    "def contaOccorrenze(stringa, sottostringa):\n",
    "    count = 0\n",
    "    len_ss = len(substr)\n",
    "    for i in range(0,len(stringa)-(len_ss-1)):\n",
    "        substrToCheck = stringa[i:i+len_ss]\n",
    "        print(substrToCheck)\n",
    "        if(substr == stringa[i:i+len_ss]): # faccio uno slicing sulla variabile stringa\n",
    "            count += 1\n",
    "            # print(count)\n",
    "    return count\n",
    "\n",
    "\n",
    "print(contaOccorrenze(stringa, substr))"
   ]
  },
  {
   "cell_type": "markdown",
   "id": "52dbf1844fdd9abe",
   "metadata": {
    "jp-MarkdownHeadingCollapsed": true
   },
   "source": [
    "### 5. Rimuovere una sottostringa da una stringa e contare le occorrenze"
   ]
  },
  {
   "cell_type": "code",
   "execution_count": 21,
   "id": "9ea2b3f39ba3576c",
   "metadata": {
    "ExecuteTime": {
     "end_time": "2024-10-01T15:22:27.951608Z",
     "start_time": "2024-10-01T15:22:27.930611Z"
    }
   },
   "outputs": [
    {
     "name": "stdout",
     "output_type": "stream",
     "text": [
      "La stringa finale, dopo la rimozione di \"ana\" in \"banana\", è \"bna\".\n",
      "\"ana\" è stata eliminata 1 volta/e in \"banana\".\n"
     ]
    }
   ],
   "source": [
    "stringa = \"banana\"\n",
    "# stringa = \"banaana\"\n",
    "\n",
    "substr = \"ana\"\n",
    "\n",
    "def rimuoviSottostringa(stringa, substr):\n",
    "    len_ss = len(substr)\n",
    "    stringaFinale = \"\"\n",
    "    count = 0\n",
    "    ch = 0\n",
    "    while ch < len(stringa):\n",
    "        myslice = stringa[ch:(ch+len_ss)]\n",
    "        if(myslice == substr):\n",
    "            ch += len_ss\n",
    "            count += 1\n",
    "        else:\n",
    "            stringaFinale += stringa[ch]\n",
    "            ch += 1\n",
    "\n",
    "    return stringaFinale, count\n",
    "\n",
    "stringaFinale, count = rimuoviSottostringa(stringa, substr)\n",
    "print(f\"La stringa finale, dopo la rimozione di \\\"{substr}\\\" in \\\"{stringa}\\\", è \\\"{stringaFinale}\\\".\")\n",
    "print(f\"\\\"{substr}\\\" è stata eliminata {count} volta/e in \\\"{stringa}\\\".\")"
   ]
  }
 ],
 "metadata": {
  "kernelspec": {
   "display_name": "Python 3 (ipykernel)",
   "language": "python",
   "name": "python3"
  },
  "language_info": {
   "codemirror_mode": {
    "name": "ipython",
    "version": 3
   },
   "file_extension": ".py",
   "mimetype": "text/x-python",
   "name": "python",
   "nbconvert_exporter": "python",
   "pygments_lexer": "ipython3",
   "version": "3.12.6"
  }
 },
 "nbformat": 4,
 "nbformat_minor": 5
}
