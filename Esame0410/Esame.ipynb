{
 "cells": [
  {
   "metadata": {},
   "cell_type": "markdown",
   "source": [
    "\n",
    "1.    ordina:\n",
    "   *   i giocatori per numero di maglia (il numero di maglia è un numero intero, utilizza la funzione astype per la conversione). Se un giocatore ha numero 0, probabilmente è un valore di default; non te ne preoccupare per il momento;"
   ],
   "id": "ec6d95f8f32497af"
  },
  {
   "cell_type": "code",
   "id": "initial_id",
   "metadata": {
    "collapsed": true,
    "ExecuteTime": {
     "end_time": "2024-10-04T10:09:52.434120Z",
     "start_time": "2024-10-04T10:09:52.412268Z"
    }
   },
   "source": [
    "import pandas as pd\n",
    "\n",
    "file_path = 'nba.csv'\n",
    "\n",
    "nba_df = pd.read_csv(file_path, sep=',')\n",
    "\n",
    "nba_df.fillna(0, inplace=True)\n",
    "\n",
    "nba_df['Number'] = nba_df['Number'].astype(int)\n",
    "\n",
    "nba_df.sort_values(by='Number', inplace=True, ascending=True)\n",
    "\n",
    "nba_df"
   ],
   "outputs": [
    {
     "data": {
      "text/plain": [
       "                  Name                    Team  Number Position   Age Height  \\\n",
       "0        Avery Bradley          Boston Celtics       0       PG  25.0    6-2   \n",
       "457                  0                       0       0        0   0.0      0   \n",
       "22        Shane Larkin           Brooklyn Nets       0       PG  23.0   5-11   \n",
       "426  Russell Westbrook   Oklahoma City Thunder       0       PG  27.0    6-3   \n",
       "47       Isaiah Canaan      Philadelphia 76ers       0       PG  25.0    6-0   \n",
       "..                 ...                     ...     ...      ...   ...    ...   \n",
       "398    Nemanja Bjelica  Minnesota Timberwolves      88       PF  28.0   6-10   \n",
       "5         Amir Johnson          Boston Celtics      90       PF  29.0    6-9   \n",
       "372        Drew Gooden      Washington Wizards      90       PF  34.0   6-10   \n",
       "68      Lucas Nogueira         Toronto Raptors      92        C  23.0    7-0   \n",
       "1          Jae Crowder          Boston Celtics      99       SF  25.0    6-6   \n",
       "\n",
       "     Weight       College      Salary  \n",
       "0     180.0         Texas   7730337.0  \n",
       "457     0.0             0         0.0  \n",
       "22    175.0    Miami (FL)   1500000.0  \n",
       "426   200.0          UCLA  16744218.0  \n",
       "47    201.0  Murray State    947276.0  \n",
       "..      ...           ...         ...  \n",
       "398   240.0             0   3950001.0  \n",
       "5     240.0             0  12000000.0  \n",
       "372   250.0        Kansas   3300000.0  \n",
       "68    220.0             0   1842000.0  \n",
       "1     235.0     Marquette   6796117.0  \n",
       "\n",
       "[458 rows x 9 columns]"
      ],
      "text/html": [
       "<div>\n",
       "<style scoped>\n",
       "    .dataframe tbody tr th:only-of-type {\n",
       "        vertical-align: middle;\n",
       "    }\n",
       "\n",
       "    .dataframe tbody tr th {\n",
       "        vertical-align: top;\n",
       "    }\n",
       "\n",
       "    .dataframe thead th {\n",
       "        text-align: right;\n",
       "    }\n",
       "</style>\n",
       "<table border=\"1\" class=\"dataframe\">\n",
       "  <thead>\n",
       "    <tr style=\"text-align: right;\">\n",
       "      <th></th>\n",
       "      <th>Name</th>\n",
       "      <th>Team</th>\n",
       "      <th>Number</th>\n",
       "      <th>Position</th>\n",
       "      <th>Age</th>\n",
       "      <th>Height</th>\n",
       "      <th>Weight</th>\n",
       "      <th>College</th>\n",
       "      <th>Salary</th>\n",
       "    </tr>\n",
       "  </thead>\n",
       "  <tbody>\n",
       "    <tr>\n",
       "      <th>0</th>\n",
       "      <td>Avery Bradley</td>\n",
       "      <td>Boston Celtics</td>\n",
       "      <td>0</td>\n",
       "      <td>PG</td>\n",
       "      <td>25.0</td>\n",
       "      <td>6-2</td>\n",
       "      <td>180.0</td>\n",
       "      <td>Texas</td>\n",
       "      <td>7730337.0</td>\n",
       "    </tr>\n",
       "    <tr>\n",
       "      <th>457</th>\n",
       "      <td>0</td>\n",
       "      <td>0</td>\n",
       "      <td>0</td>\n",
       "      <td>0</td>\n",
       "      <td>0.0</td>\n",
       "      <td>0</td>\n",
       "      <td>0.0</td>\n",
       "      <td>0</td>\n",
       "      <td>0.0</td>\n",
       "    </tr>\n",
       "    <tr>\n",
       "      <th>22</th>\n",
       "      <td>Shane Larkin</td>\n",
       "      <td>Brooklyn Nets</td>\n",
       "      <td>0</td>\n",
       "      <td>PG</td>\n",
       "      <td>23.0</td>\n",
       "      <td>5-11</td>\n",
       "      <td>175.0</td>\n",
       "      <td>Miami (FL)</td>\n",
       "      <td>1500000.0</td>\n",
       "    </tr>\n",
       "    <tr>\n",
       "      <th>426</th>\n",
       "      <td>Russell Westbrook</td>\n",
       "      <td>Oklahoma City Thunder</td>\n",
       "      <td>0</td>\n",
       "      <td>PG</td>\n",
       "      <td>27.0</td>\n",
       "      <td>6-3</td>\n",
       "      <td>200.0</td>\n",
       "      <td>UCLA</td>\n",
       "      <td>16744218.0</td>\n",
       "    </tr>\n",
       "    <tr>\n",
       "      <th>47</th>\n",
       "      <td>Isaiah Canaan</td>\n",
       "      <td>Philadelphia 76ers</td>\n",
       "      <td>0</td>\n",
       "      <td>PG</td>\n",
       "      <td>25.0</td>\n",
       "      <td>6-0</td>\n",
       "      <td>201.0</td>\n",
       "      <td>Murray State</td>\n",
       "      <td>947276.0</td>\n",
       "    </tr>\n",
       "    <tr>\n",
       "      <th>...</th>\n",
       "      <td>...</td>\n",
       "      <td>...</td>\n",
       "      <td>...</td>\n",
       "      <td>...</td>\n",
       "      <td>...</td>\n",
       "      <td>...</td>\n",
       "      <td>...</td>\n",
       "      <td>...</td>\n",
       "      <td>...</td>\n",
       "    </tr>\n",
       "    <tr>\n",
       "      <th>398</th>\n",
       "      <td>Nemanja Bjelica</td>\n",
       "      <td>Minnesota Timberwolves</td>\n",
       "      <td>88</td>\n",
       "      <td>PF</td>\n",
       "      <td>28.0</td>\n",
       "      <td>6-10</td>\n",
       "      <td>240.0</td>\n",
       "      <td>0</td>\n",
       "      <td>3950001.0</td>\n",
       "    </tr>\n",
       "    <tr>\n",
       "      <th>5</th>\n",
       "      <td>Amir Johnson</td>\n",
       "      <td>Boston Celtics</td>\n",
       "      <td>90</td>\n",
       "      <td>PF</td>\n",
       "      <td>29.0</td>\n",
       "      <td>6-9</td>\n",
       "      <td>240.0</td>\n",
       "      <td>0</td>\n",
       "      <td>12000000.0</td>\n",
       "    </tr>\n",
       "    <tr>\n",
       "      <th>372</th>\n",
       "      <td>Drew Gooden</td>\n",
       "      <td>Washington Wizards</td>\n",
       "      <td>90</td>\n",
       "      <td>PF</td>\n",
       "      <td>34.0</td>\n",
       "      <td>6-10</td>\n",
       "      <td>250.0</td>\n",
       "      <td>Kansas</td>\n",
       "      <td>3300000.0</td>\n",
       "    </tr>\n",
       "    <tr>\n",
       "      <th>68</th>\n",
       "      <td>Lucas Nogueira</td>\n",
       "      <td>Toronto Raptors</td>\n",
       "      <td>92</td>\n",
       "      <td>C</td>\n",
       "      <td>23.0</td>\n",
       "      <td>7-0</td>\n",
       "      <td>220.0</td>\n",
       "      <td>0</td>\n",
       "      <td>1842000.0</td>\n",
       "    </tr>\n",
       "    <tr>\n",
       "      <th>1</th>\n",
       "      <td>Jae Crowder</td>\n",
       "      <td>Boston Celtics</td>\n",
       "      <td>99</td>\n",
       "      <td>SF</td>\n",
       "      <td>25.0</td>\n",
       "      <td>6-6</td>\n",
       "      <td>235.0</td>\n",
       "      <td>Marquette</td>\n",
       "      <td>6796117.0</td>\n",
       "    </tr>\n",
       "  </tbody>\n",
       "</table>\n",
       "<p>458 rows × 9 columns</p>\n",
       "</div>"
      ]
     },
     "execution_count": 14,
     "metadata": {},
     "output_type": "execute_result"
    }
   ],
   "execution_count": 14
  },
  {
   "metadata": {},
   "cell_type": "markdown",
   "source": [
    "2. poi calcola:\n",
    "  *   calcola il numero totale di giocatori (come puoi gestire i NaN?);\n",
    "  *   calcola la somma del salario (come puoi gestire i NaN?);\n",
    "  *   calcola la media del salario (come puoi gestire i NaN?);\n",
    "  *   chi è il giocatore che ha salario massimo? Chi il minimo? (utilizza idxmax e idxmin)\n",
    "  * crea un file csv con i giocatori della squadra \"Los Angeles Lakers\" che hanno meno di 30 anni e pesano più di 200 libbre"
   ],
   "id": "6b7e9cc2c7c642be"
  },
  {
   "metadata": {},
   "cell_type": "markdown",
   "source": "## Calcola il numero totale di giocatori",
   "id": "48ed693359c3d7ec"
  },
  {
   "metadata": {
    "ExecuteTime": {
     "end_time": "2024-10-04T10:31:51.739369Z",
     "start_time": "2024-10-04T10:31:51.732668Z"
    }
   },
   "cell_type": "code",
   "source": "nba_df2 = pd.read_csv(file_path, sep=',')",
   "id": "8cea2f411d1d8236",
   "outputs": [],
   "execution_count": 54
  },
  {
   "metadata": {
    "ExecuteTime": {
     "end_time": "2024-10-04T10:31:52.625879Z",
     "start_time": "2024-10-04T10:31:52.610529Z"
    }
   },
   "cell_type": "code",
   "source": "nba_df2.tail()",
   "id": "9c9262d713713c43",
   "outputs": [
    {
     "data": {
      "text/plain": [
       "             Name       Team  Number Position   Age Height  Weight College  \\\n",
       "453  Shelvin Mack  Utah Jazz     8.0       PG  26.0    6-3   203.0  Butler   \n",
       "454     Raul Neto  Utah Jazz    25.0       PG  24.0    6-1   179.0     NaN   \n",
       "455  Tibor Pleiss  Utah Jazz    21.0        C  26.0    7-3   256.0     NaN   \n",
       "456   Jeff Withey  Utah Jazz    24.0        C  26.0    7-0   231.0  Kansas   \n",
       "457           NaN        NaN     NaN      NaN   NaN    NaN     NaN     NaN   \n",
       "\n",
       "        Salary  \n",
       "453  2433333.0  \n",
       "454   900000.0  \n",
       "455  2900000.0  \n",
       "456   947276.0  \n",
       "457        NaN  "
      ],
      "text/html": [
       "<div>\n",
       "<style scoped>\n",
       "    .dataframe tbody tr th:only-of-type {\n",
       "        vertical-align: middle;\n",
       "    }\n",
       "\n",
       "    .dataframe tbody tr th {\n",
       "        vertical-align: top;\n",
       "    }\n",
       "\n",
       "    .dataframe thead th {\n",
       "        text-align: right;\n",
       "    }\n",
       "</style>\n",
       "<table border=\"1\" class=\"dataframe\">\n",
       "  <thead>\n",
       "    <tr style=\"text-align: right;\">\n",
       "      <th></th>\n",
       "      <th>Name</th>\n",
       "      <th>Team</th>\n",
       "      <th>Number</th>\n",
       "      <th>Position</th>\n",
       "      <th>Age</th>\n",
       "      <th>Height</th>\n",
       "      <th>Weight</th>\n",
       "      <th>College</th>\n",
       "      <th>Salary</th>\n",
       "    </tr>\n",
       "  </thead>\n",
       "  <tbody>\n",
       "    <tr>\n",
       "      <th>453</th>\n",
       "      <td>Shelvin Mack</td>\n",
       "      <td>Utah Jazz</td>\n",
       "      <td>8.0</td>\n",
       "      <td>PG</td>\n",
       "      <td>26.0</td>\n",
       "      <td>6-3</td>\n",
       "      <td>203.0</td>\n",
       "      <td>Butler</td>\n",
       "      <td>2433333.0</td>\n",
       "    </tr>\n",
       "    <tr>\n",
       "      <th>454</th>\n",
       "      <td>Raul Neto</td>\n",
       "      <td>Utah Jazz</td>\n",
       "      <td>25.0</td>\n",
       "      <td>PG</td>\n",
       "      <td>24.0</td>\n",
       "      <td>6-1</td>\n",
       "      <td>179.0</td>\n",
       "      <td>NaN</td>\n",
       "      <td>900000.0</td>\n",
       "    </tr>\n",
       "    <tr>\n",
       "      <th>455</th>\n",
       "      <td>Tibor Pleiss</td>\n",
       "      <td>Utah Jazz</td>\n",
       "      <td>21.0</td>\n",
       "      <td>C</td>\n",
       "      <td>26.0</td>\n",
       "      <td>7-3</td>\n",
       "      <td>256.0</td>\n",
       "      <td>NaN</td>\n",
       "      <td>2900000.0</td>\n",
       "    </tr>\n",
       "    <tr>\n",
       "      <th>456</th>\n",
       "      <td>Jeff Withey</td>\n",
       "      <td>Utah Jazz</td>\n",
       "      <td>24.0</td>\n",
       "      <td>C</td>\n",
       "      <td>26.0</td>\n",
       "      <td>7-0</td>\n",
       "      <td>231.0</td>\n",
       "      <td>Kansas</td>\n",
       "      <td>947276.0</td>\n",
       "    </tr>\n",
       "    <tr>\n",
       "      <th>457</th>\n",
       "      <td>NaN</td>\n",
       "      <td>NaN</td>\n",
       "      <td>NaN</td>\n",
       "      <td>NaN</td>\n",
       "      <td>NaN</td>\n",
       "      <td>NaN</td>\n",
       "      <td>NaN</td>\n",
       "      <td>NaN</td>\n",
       "      <td>NaN</td>\n",
       "    </tr>\n",
       "  </tbody>\n",
       "</table>\n",
       "</div>"
      ]
     },
     "execution_count": 55,
     "metadata": {},
     "output_type": "execute_result"
    }
   ],
   "execution_count": 55
  },
  {
   "metadata": {
    "ExecuteTime": {
     "end_time": "2024-10-04T10:36:28.888431Z",
     "start_time": "2024-10-04T10:36:28.882010Z"
    }
   },
   "cell_type": "code",
   "source": [
    "nba_df2.dropna(how='all', inplace=True)\n",
    "\n",
    "nba_df2['Name'].count()\n"
   ],
   "id": "e5478bfb73f16dc8",
   "outputs": [
    {
     "data": {
      "text/plain": [
       "np.int64(457)"
      ]
     },
     "execution_count": 64,
     "metadata": {},
     "output_type": "execute_result"
    }
   ],
   "execution_count": 64
  },
  {
   "metadata": {},
   "cell_type": "markdown",
   "source": "## Calcola la somma del salario",
   "id": "c5b50e51237b36ad"
  },
  {
   "metadata": {
    "ExecuteTime": {
     "end_time": "2024-10-04T10:36:02.100431Z",
     "start_time": "2024-10-04T10:36:02.093020Z"
    }
   },
   "cell_type": "code",
   "source": "nba_df3 = pd.read_csv(file_path, sep=',')",
   "id": "734b4039d47501d1",
   "outputs": [],
   "execution_count": 62
  },
  {
   "metadata": {
    "ExecuteTime": {
     "end_time": "2024-10-04T10:36:02.849641Z",
     "start_time": "2024-10-04T10:36:02.841629Z"
    }
   },
   "cell_type": "code",
   "source": [
    "nba_df3.tail()\n",
    "\n",
    "nba_df3.fillna(0, inplace=True)\n",
    "\n",
    "nba_df3['Salary'].sum()"
   ],
   "id": "6297e12ec9053ac5",
   "outputs": [
    {
     "data": {
      "text/plain": [
       "np.float64(2159837111.0)"
      ]
     },
     "execution_count": 63,
     "metadata": {},
     "output_type": "execute_result"
    }
   ],
   "execution_count": 63
  },
  {
   "metadata": {},
   "cell_type": "markdown",
   "source": "## Calcola la media del salario",
   "id": "101d11ca0ba61c4d"
  },
  {
   "metadata": {
    "ExecuteTime": {
     "end_time": "2024-10-04T10:39:45.783360Z",
     "start_time": "2024-10-04T10:39:45.773627Z"
    }
   },
   "cell_type": "code",
   "source": [
    "nba_df4 = pd.read_csv(file_path, sep=',')\n",
    "nba_df2.dropna(how='all', inplace=True) \n",
    "\n",
    "nba_df4['Salary'].mean() # la funzione mean ignora i NaN\n"
   ],
   "id": "2d257ead936870d7",
   "outputs": [
    {
     "data": {
      "text/plain": [
       "np.float64(4842684.105381166)"
      ]
     },
     "execution_count": 69,
     "metadata": {},
     "output_type": "execute_result"
    }
   ],
   "execution_count": 69
  },
  {
   "metadata": {},
   "cell_type": "markdown",
   "source": "## Chi è il giocatore che ha salario massimo? Chi il minimo? (utilizza idxmax e idxmin) Far Vedere Il Nome",
   "id": "16ca3f5712ebb25c"
  },
  {
   "metadata": {
    "ExecuteTime": {
     "end_time": "2024-10-04T10:41:30.580569Z",
     "start_time": "2024-10-04T10:41:30.569398Z"
    }
   },
   "cell_type": "code",
   "source": [
    "nba_df5 = pd.read_csv(file_path, sep=',')\n",
    "nba_df5.dropna(how='all', inplace=True)\n",
    "\n",
    "max_salary = nba_df5['Salary'].idxmax()\n",
    "\n",
    "min_salary = nba_df5['Salary'].idxmin()\n",
    "\n",
    "print(f\"Giocatore con salario massimo: {nba_df5['Name'][max_salary]}\")\n",
    "print(f\"Giocatore con salario minimo: {nba_df5['Name'][min_salary]}\")\n"
   ],
   "id": "603c973eccfee16f",
   "outputs": [
    {
     "name": "stdout",
     "output_type": "stream",
     "text": [
      "Giocatore con salario massimo: Kobe Bryant\n",
      "Giocatore con salario minimo: Thanasis Antetokounmpo\n"
     ]
    }
   ],
   "execution_count": 71
  },
  {
   "metadata": {},
   "cell_type": "markdown",
   "source": "## Crea un file csv con i giocatori della squadra \"Los Angeles Lakers\" che hanno meno di 30 anni e pesano più di 200 libbre",
   "id": "9287a2f0c5c2dd96"
  },
  {
   "metadata": {
    "ExecuteTime": {
     "end_time": "2024-10-04T10:50:21.467394Z",
     "start_time": "2024-10-04T10:50:21.444695Z"
    }
   },
   "cell_type": "code",
   "source": [
    "nba_df6 = pd.read_csv(file_path, sep=',')\n",
    "nba_df6.dropna(how='all', inplace=True)\n",
    "\n",
    "nba_df6['Weight'] = nba_df6['Weight'].astype(int)\n",
    "\n",
    "nba_df6['Age'] = nba_df6['Age'].astype(int)\n",
    "\n",
    "nba_df6 = nba_df6[(nba_df6['Team'] == 'Los Angeles Lakers') & (nba_df6['Age'] < 30) & (nba_df6['Weight'] > 200)]\n",
    "\n",
    "nba_df6.to_csv('lakers.csv', index=False)\n",
    "\n",
    "nba_df6\n"
   ],
   "id": "165d8c4a09cfc4ed",
   "outputs": [
    {
     "data": {
      "text/plain": [
       "                Name                Team  Number Position  Age Height  Weight  \\\n",
       "107      Tarik Black  Los Angeles Lakers    28.0        C   24    6-9     250   \n",
       "108    Anthony Brown  Los Angeles Lakers     3.0       SF   23    6-7     210   \n",
       "111      Roy Hibbert  Los Angeles Lakers    17.0        C   29    7-2     270   \n",
       "113       Ryan Kelly  Los Angeles Lakers     4.0       PF   25   6-11     230   \n",
       "114  Larry Nance Jr.  Los Angeles Lakers     7.0       PF   23    6-9     230   \n",
       "115    Julius Randle  Los Angeles Lakers    30.0       PF   21    6-9     250   \n",
       "117     Robert Sacre  Los Angeles Lakers    50.0        C   27    7-0     270   \n",
       "\n",
       "        College      Salary  \n",
       "107      Kansas    845059.0  \n",
       "108    Stanford    700000.0  \n",
       "111  Georgetown  15592217.0  \n",
       "113        Duke   1724250.0  \n",
       "114     Wyoming   1155600.0  \n",
       "115    Kentucky   3132240.0  \n",
       "117     Gonzaga    981348.0  "
      ],
      "text/html": [
       "<div>\n",
       "<style scoped>\n",
       "    .dataframe tbody tr th:only-of-type {\n",
       "        vertical-align: middle;\n",
       "    }\n",
       "\n",
       "    .dataframe tbody tr th {\n",
       "        vertical-align: top;\n",
       "    }\n",
       "\n",
       "    .dataframe thead th {\n",
       "        text-align: right;\n",
       "    }\n",
       "</style>\n",
       "<table border=\"1\" class=\"dataframe\">\n",
       "  <thead>\n",
       "    <tr style=\"text-align: right;\">\n",
       "      <th></th>\n",
       "      <th>Name</th>\n",
       "      <th>Team</th>\n",
       "      <th>Number</th>\n",
       "      <th>Position</th>\n",
       "      <th>Age</th>\n",
       "      <th>Height</th>\n",
       "      <th>Weight</th>\n",
       "      <th>College</th>\n",
       "      <th>Salary</th>\n",
       "    </tr>\n",
       "  </thead>\n",
       "  <tbody>\n",
       "    <tr>\n",
       "      <th>107</th>\n",
       "      <td>Tarik Black</td>\n",
       "      <td>Los Angeles Lakers</td>\n",
       "      <td>28.0</td>\n",
       "      <td>C</td>\n",
       "      <td>24</td>\n",
       "      <td>6-9</td>\n",
       "      <td>250</td>\n",
       "      <td>Kansas</td>\n",
       "      <td>845059.0</td>\n",
       "    </tr>\n",
       "    <tr>\n",
       "      <th>108</th>\n",
       "      <td>Anthony Brown</td>\n",
       "      <td>Los Angeles Lakers</td>\n",
       "      <td>3.0</td>\n",
       "      <td>SF</td>\n",
       "      <td>23</td>\n",
       "      <td>6-7</td>\n",
       "      <td>210</td>\n",
       "      <td>Stanford</td>\n",
       "      <td>700000.0</td>\n",
       "    </tr>\n",
       "    <tr>\n",
       "      <th>111</th>\n",
       "      <td>Roy Hibbert</td>\n",
       "      <td>Los Angeles Lakers</td>\n",
       "      <td>17.0</td>\n",
       "      <td>C</td>\n",
       "      <td>29</td>\n",
       "      <td>7-2</td>\n",
       "      <td>270</td>\n",
       "      <td>Georgetown</td>\n",
       "      <td>15592217.0</td>\n",
       "    </tr>\n",
       "    <tr>\n",
       "      <th>113</th>\n",
       "      <td>Ryan Kelly</td>\n",
       "      <td>Los Angeles Lakers</td>\n",
       "      <td>4.0</td>\n",
       "      <td>PF</td>\n",
       "      <td>25</td>\n",
       "      <td>6-11</td>\n",
       "      <td>230</td>\n",
       "      <td>Duke</td>\n",
       "      <td>1724250.0</td>\n",
       "    </tr>\n",
       "    <tr>\n",
       "      <th>114</th>\n",
       "      <td>Larry Nance Jr.</td>\n",
       "      <td>Los Angeles Lakers</td>\n",
       "      <td>7.0</td>\n",
       "      <td>PF</td>\n",
       "      <td>23</td>\n",
       "      <td>6-9</td>\n",
       "      <td>230</td>\n",
       "      <td>Wyoming</td>\n",
       "      <td>1155600.0</td>\n",
       "    </tr>\n",
       "    <tr>\n",
       "      <th>115</th>\n",
       "      <td>Julius Randle</td>\n",
       "      <td>Los Angeles Lakers</td>\n",
       "      <td>30.0</td>\n",
       "      <td>PF</td>\n",
       "      <td>21</td>\n",
       "      <td>6-9</td>\n",
       "      <td>250</td>\n",
       "      <td>Kentucky</td>\n",
       "      <td>3132240.0</td>\n",
       "    </tr>\n",
       "    <tr>\n",
       "      <th>117</th>\n",
       "      <td>Robert Sacre</td>\n",
       "      <td>Los Angeles Lakers</td>\n",
       "      <td>50.0</td>\n",
       "      <td>C</td>\n",
       "      <td>27</td>\n",
       "      <td>7-0</td>\n",
       "      <td>270</td>\n",
       "      <td>Gonzaga</td>\n",
       "      <td>981348.0</td>\n",
       "    </tr>\n",
       "  </tbody>\n",
       "</table>\n",
       "</div>"
      ]
     },
     "execution_count": 81,
     "metadata": {},
     "output_type": "execute_result"
    }
   ],
   "execution_count": 81
  },
  {
   "metadata": {},
   "cell_type": "markdown",
   "source": [
    "3. disegna un grafico, utilizzando il tipo secondo te più appropriato, per mostrare come si distribuiscono i giocatori in base al peso;\n",
    "  * modifica il grafico per far sì che (nello stesso grafico) sia visibile anche la distinzione per età (oltre che quella per il peso)."
   ],
   "id": "600e5e09bc87305"
  },
  {
   "metadata": {
    "ExecuteTime": {
     "end_time": "2024-10-04T10:50:52.311420Z",
     "start_time": "2024-10-04T10:50:51.425062Z"
    }
   },
   "cell_type": "code",
   "source": [
    "import seaborn as sns\n",
    "import matplotlib.pyplot as plt\n",
    "\n",
    "sns.histplot(data=nba_df5, x='Weight', hue='Age', kde=True)\n",
    "plt.show()"
   ],
   "id": "ef2684ca7519e554",
   "outputs": [
    {
     "data": {
      "text/plain": [
       "<Figure size 640x480 with 1 Axes>"
      ],
      "image/png": "[encoded data removed]"
     },
     "metadata": {},
     "output_type": "display_data"
    }
   ],
   "execution_count": 83
  }
 ],
 "metadata": {
  "kernelspec": {
   "display_name": "Python 3",
   "language": "python",
   "name": "python3"
  },
  "language_info": {
   "codemirror_mode": {
    "name": "ipython",
    "version": 2
   },
   "file_extension": ".py",
   "mimetype": "text/x-python",
   "name": "python",
   "nbconvert_exporter": "python",
   "pygments_lexer": "ipython2",
   "version": "2.7.6"
  }
 },
 "nbformat": 4,
 "nbformat_minor": 5
}
