{
 "cells": [
  {
   "metadata": {},
   "cell_type": "markdown",
   "source": "## Elementi immutabili",
   "id": "a878ca67f2b95b4d"
  },
  {
   "metadata": {},
   "cell_type": "markdown",
   "source": "### Liste immutabili",
   "id": "5eae25f060234241"
  },
  {
   "metadata": {},
   "cell_type": "code",
   "source": [
    "lista1 = [1, 2, 3]\n",
    "lista1b = lista1\n",
    "lista1b.append(10)\n",
    "print(lista1)"
   ],
   "id": "fdea7bbf011d2c53",
   "outputs": [],
   "execution_count": null
  },
  {
   "metadata": {},
   "cell_type": "markdown",
   "source": "### Stringhe immutabili",
   "id": "f181cefc14b5adaa"
  },
  {
   "metadata": {},
   "cell_type": "code",
   "source": [
    "stringa1 = \"ciao\"\n",
    "stringa1b = stringa1\n",
    "stringa1b += \" mondo\"\n",
    "print(stringa1)"
   ],
   "id": "855e4b7d6bb2e9ad",
   "outputs": [],
   "execution_count": null
  },
  {
   "metadata": {},
   "cell_type": "markdown",
   "source": "## Dizionari",
   "id": "db711bf1396c3a86"
  },
  {
   "metadata": {},
   "cell_type": "markdown",
   "source": "#### Creazione con parole",
   "id": "13db46ebc5ada360"
  },
  {
   "metadata": {},
   "cell_type": "code",
   "source": [
    "Eng2Ita = {}\n",
    "Eng2Ita[\"dog\"] = \"cane\"\n",
    "Eng2Ita[\"cat\"] = \"gatto\"\n",
    "\n",
    "print(Eng2Ita)"
   ],
   "id": "93e75e308bb1a77a",
   "outputs": [],
   "execution_count": null
  },
  {
   "metadata": {},
   "cell_type": "markdown",
   "source": "#### Creazione con numeri",
   "id": "6ac91ecc73fef6d0"
  },
  {
   "metadata": {},
   "cell_type": "code",
   "source": [
    "Eng2Ita = {}\n",
    "Eng2Ita[2] = \"tavolo\"\n",
    "Eng2Ita[7] = \"porta\"\n",
    "\n",
    "print(Eng2Ita)"
   ],
   "id": "a60524337599dfe5",
   "outputs": [],
   "execution_count": null
  },
  {
   "metadata": {},
   "cell_type": "markdown",
   "source": "#### Creazione con stringhe",
   "id": "2c47d2eace37f5ea"
  },
  {
   "metadata": {},
   "cell_type": "code",
   "source": [
    "magazzino = {\"mele\": 10, \"banane\": 5, \"arance\": 3}\n",
    "print(magazzino)"
   ],
   "id": "3e350b6904cd5d90",
   "outputs": [],
   "execution_count": null
  },
  {
   "metadata": {},
   "cell_type": "markdown",
   "source": "#### Accesso",
   "id": "a079c6591c7a06a2"
  },
  {
   "metadata": {},
   "cell_type": "code",
   "source": [
    "nuovi_pezzi = 9\n",
    "magazzino[\"mele\"] += nuovi_pezzi\n",
    "print(magazzino)"
   ],
   "id": "4253416940aaee6",
   "outputs": [],
   "execution_count": null
  },
  {
   "metadata": {},
   "cell_type": "markdown",
   "source": "#### Chiavi",
   "id": "822c335a35c90434"
  },
  {
   "metadata": {},
   "cell_type": "code",
   "source": "magazzino.keys()",
   "id": "bcd9cecd14cb587e",
   "outputs": [],
   "execution_count": null
  },
  {
   "metadata": {},
   "cell_type": "markdown",
   "source": "##### Conversione in lista",
   "id": "4a09fd053d7a4d0f"
  },
  {
   "metadata": {},
   "cell_type": "code",
   "source": "list(magazzino.keys())",
   "id": "57740f5e9635bfde",
   "outputs": [],
   "execution_count": null
  },
  {
   "metadata": {},
   "cell_type": "markdown",
   "source": "#### lista di valori",
   "id": "d29eb40b9aa94973"
  },
  {
   "metadata": {},
   "cell_type": "code",
   "source": "list(magazzino.values())",
   "id": "6915d2cb38d78814",
   "outputs": [],
   "execution_count": null
  },
  {
   "metadata": {},
   "cell_type": "markdown",
   "source": "#### Lista di coppie chiave-valore",
   "id": "9011b20ef2c2ef9b"
  },
  {
   "metadata": {},
   "cell_type": "code",
   "source": [
    "for chiave in magazzino.keys():\n",
    "    print(chiave)"
   ],
   "id": "1dca1448ebfc6aa9",
   "outputs": [],
   "execution_count": null
  },
  {
   "metadata": {},
   "cell_type": "markdown",
   "source": "### Iterazione sui valori",
   "id": "cc63fd2357423076"
  },
  {
   "metadata": {},
   "cell_type": "code",
   "source": [
    "for valore in magazzino.values():\n",
    "    print(valore)"
   ],
   "id": "c5737bd5b07d2a92",
   "outputs": [],
   "execution_count": null
  },
  {
   "metadata": {},
   "cell_type": "markdown",
   "source": "### Iterazione su chiave e valore",
   "id": "ba283166f89deaba"
  },
  {
   "metadata": {},
   "cell_type": "code",
   "source": [
    "for i in magazzino.items():\n",
    "  tupla1 = i\n",
    "  print(tupla1)\n",
    "  print(type(i))\n",
    "\n",
    "print(\"--------\")\n",
    "print(tupla1[0])\n",
    "print(tupla1[1])\n"
   ],
   "id": "38495fd5c44d5180",
   "outputs": [],
   "execution_count": null
  },
  {
   "metadata": {},
   "cell_type": "markdown",
   "source": "### Iterazione su chiave e valore con assegnazione multipla",
   "id": "f9a88472a51387a8"
  },
  {
   "metadata": {},
   "cell_type": "code",
   "source": [
    "for k, v in magazzino.items():\n",
    "  print(f\"La quantità di {k} è {v}.\")"
   ],
   "id": "e7eab9cd65248592",
   "outputs": [],
   "execution_count": null
  },
  {
   "metadata": {},
   "cell_type": "markdown",
   "source": "### Accesso a un valore tramite chiave",
   "id": "3eea7e399594f235"
  },
  {
   "metadata": {},
   "cell_type": "code",
   "source": "magazzino['arance']",
   "id": "89fdd85c3f585940",
   "outputs": [],
   "execution_count": null
  },
  {
   "metadata": {},
   "cell_type": "markdown",
   "source": "### Altro metodo per accedere a un valore tramite chiave",
   "id": "be8ff15953d96d9b"
  },
  {
   "metadata": {},
   "cell_type": "code",
   "source": "magazzino.get('mele')",
   "id": "bcf66b985d27291f",
   "outputs": [],
   "execution_count": null
  },
  {
   "metadata": {},
   "cell_type": "markdown",
   "source": "### Accesso a un valore inesistente",
   "id": "9c4435146fafe36c"
  },
  {
   "metadata": {},
   "cell_type": "code",
   "source": "print(magazzino.get('pesche'))",
   "id": "baf755412650172e",
   "outputs": [],
   "execution_count": null
  },
  {
   "metadata": {},
   "cell_type": "markdown",
   "source": "### Accesso a un valore inesistente con valore di default",
   "id": "be6417ab5e379d0e"
  },
  {
   "metadata": {},
   "cell_type": "code",
   "source": [
    "print(magazzino.get('pesche', \"Non ce ne sono\")) #valore alternativo se la chiave non è presente nel magazzino\n",
    "print(magazzino.get('mele', \"Non ce ne sono\"))"
   ],
   "id": "a3d7f066817f4dea",
   "outputs": [],
   "execution_count": null
  },
  {
   "metadata": {},
   "cell_type": "markdown",
   "source": "### Altro metodo per accedere a un valore tramite chiave e dare un valore di default",
   "id": "2383963612c068d7"
  },
  {
   "metadata": {},
   "cell_type": "code",
   "source": [
    "richiesta = \"pesche\"\n",
    "richiesta = \"arance\"\n",
    "\n",
    "quantità = magazzino.get(richiesta)\n",
    "if quantità == None:\n",
    "  print(f\"Non ci sono {richiesta}\")\n",
    "else:\n",
    "  print(f\"{richiesta} ha {quantità} pezzi.\")"
   ],
   "id": "3708391d6eab43c3",
   "outputs": [],
   "execution_count": null
  },
  {
   "metadata": {},
   "cell_type": "markdown",
   "source": "## Chiave con interi",
   "id": "2b78da2607a4bac1"
  },
  {
   "metadata": {},
   "cell_type": "markdown",
   "source": "### Creazione di un dizionario con chiavi intere e valori stringhe",
   "id": "7ba2a36ebe44f075"
  },
  {
   "metadata": {},
   "cell_type": "code",
   "source": [
    "studenti = {\n",
    "    0: {'nome': 'Filippo', 'cognome': 'Aprile'},\n",
    "    1: {'nome':'Gian Franco', 'cognome':'Bravi'}\n",
    "}\n",
    "\n",
    "# print(studenti)\n",
    "print(studenti[0]['nome'])\n",
    "print(studenti.get(0).get('nome'))"
   ],
   "id": "c15482af381e832c",
   "outputs": [],
   "execution_count": null
  },
  {
   "metadata": {},
   "cell_type": "markdown",
   "source": "### Aggiunta di un elemento al dizionario studenti con chiave intera e valore dizionario",
   "id": "56727ea1b3012d26"
  },
  {
   "metadata": {},
   "cell_type": "code",
   "source": [
    "studenti['A'] = {'nome':'Gian Franco', 'cognome':'Bravo'}\n",
    "print(studenti)"
   ],
   "id": "42603740633dc1fd",
   "outputs": [],
   "execution_count": null
  },
  {
   "metadata": {},
   "cell_type": "markdown",
   "source": "#### Per ogni studente aggiungo un orario di ingresso e uscita",
   "id": "683d6c3beea9ca47"
  },
  {
   "metadata": {},
   "cell_type": "code",
   "source": [
    "for s in studenti.keys():\n",
    "  studenti[s]['orari'] = {'ingresso':'9:00', 'uscita':'18:00'}\n",
    "\n",
    "print(studenti)"
   ],
   "id": "f93e915fcd13d783",
   "outputs": [],
   "execution_count": null
  },
  {
   "metadata": {},
   "cell_type": "markdown",
   "source": "#### Per ogni studente aggiungo un altro orario di ingresso e uscita",
   "id": "2e1b2c7d3c65bbe3"
  },
  {
   "metadata": {},
   "cell_type": "code",
   "source": [
    "for s in studenti.keys():\n",
    "  studenti[s]['orari2'] = ['ingresso: 9:00', 'uscita : 18:00']\n",
    "\n",
    "print(studenti)"
   ],
   "id": "ce9e7cae3aad55c0",
   "outputs": [],
   "execution_count": null
  },
  {
   "metadata": {},
   "cell_type": "markdown",
   "source": "### Rimozione di un elemento dal dizionario studenti",
   "id": "cee71b00cebf688"
  },
  {
   "metadata": {},
   "cell_type": "code",
   "source": [
    "del studenti[1]\n",
    "print(studenti)"
   ],
   "id": "fb002f47013d7400",
   "outputs": [],
   "execution_count": null
  },
  {
   "metadata": {},
   "cell_type": "markdown",
   "source": "## Esercizi",
   "id": "6b244a03e1f0aad6"
  },
  {
   "metadata": {},
   "cell_type": "code",
   "source": [
    "magazzino = {'arance': 7, 'mele': 4, 'fragole':3}\n",
    "lista_ord = sorted(list(magazzino.items()))\n",
    "print(lista_ord)"
   ],
   "id": "1990d14c31877c69",
   "outputs": [],
   "execution_count": null
  },
  {
   "metadata": {},
   "cell_type": "markdown",
   "source": "### 1. Definiamo dei valori agli elementi di un magazzino",
   "id": "c0852c44ebcf6225"
  },
  {
   "metadata": {},
   "cell_type": "markdown",
   "source": "##### Ciclo",
   "id": "36c0686ca20a3820"
  },
  {
   "metadata": {},
   "cell_type": "code",
   "source": [
    "import random\n",
    "prodotti = [\"shampoo\", \"sapone\", \"dentifricio\", \"balsamo\"]\n",
    "\n",
    "magazzino = {}\n",
    "for k in prodotti:\n",
    "    magazzino[k] = random.randint(1, 10)\n",
    "    \n",
    "print(magazzino)"
   ],
   "id": "3f14c77cf83ca775",
   "outputs": [],
   "execution_count": null
  },
  {
   "metadata": {},
   "cell_type": "markdown",
   "source": "##### Comprensione di lista",
   "id": "f50fb5d0ea3033b0"
  },
  {
   "metadata": {
    "ExecuteTime": {
     "end_time": "2024-10-01T17:08:01.642118Z",
     "start_time": "2024-10-01T17:08:01.634071Z"
    }
   },
   "cell_type": "code",
   "source": [
    "magazzino2 = {k: random.randint(1, 10) for k in prodotti}\n",
    "print(magazzino2)"
   ],
   "id": "ac8cb2063c6b6cee",
   "outputs": [
    {
     "name": "stdout",
     "output_type": "stream",
     "text": [
      "{'shampoo': 6, 'sapone': 10, 'dentifricio': 1, 'balsamo': 6}\n"
     ]
    }
   ],
   "execution_count": 37
  },
  {
   "metadata": {},
   "cell_type": "markdown",
   "source": "### 2. Modifichiamo i valori degli elementi del magazzino",
   "id": "5578fa0d498152d5"
  },
  {
   "metadata": {},
   "cell_type": "markdown",
   "source": "##### Comprensione di lista",
   "id": "1fbf2734f1a5bd14"
  },
  {
   "metadata": {
    "ExecuteTime": {
     "end_time": "2024-10-01T17:09:20.387748Z",
     "start_time": "2024-10-01T17:09:20.382471Z"
    }
   },
   "cell_type": "code",
   "source": [
    "magazzino3 = {k: v+2 for k, v in magazzino2.items()}\n",
    "print(magazzino3)"
   ],
   "id": "a4c31835fe86a5be",
   "outputs": [
    {
     "name": "stdout",
     "output_type": "stream",
     "text": [
      "{'shampoo': 8, 'sapone': 12, 'dentifricio': 3, 'balsamo': 8}\n"
     ]
    }
   ],
   "execution_count": 38
  },
  {
   "metadata": {},
   "cell_type": "markdown",
   "source": "##### Ciclo",
   "id": "75ba73194238f724"
  },
  {
   "metadata": {
    "ExecuteTime": {
     "end_time": "2024-10-01T17:10:10.177514Z",
     "start_time": "2024-10-01T17:10:10.171528Z"
    }
   },
   "cell_type": "code",
   "source": [
    "for k, v in magazzino2.items():\n",
    "    magazzino3[k] += v+2\n",
    "    \n",
    "print(magazzino3)"
   ],
   "id": "31563e86b0b7c121",
   "outputs": [
    {
     "name": "stdout",
     "output_type": "stream",
     "text": [
      "{'shampoo': 16, 'sapone': 24, 'dentifricio': 6, 'balsamo': 16}\n"
     ]
    }
   ],
   "execution_count": 39
  }
 ],
 "metadata": {
  "kernelspec": {
   "display_name": "Python 3",
   "language": "python",
   "name": "python3"
  },
  "language_info": {
   "codemirror_mode": {
    "name": "ipython",
    "version": 2
   },
   "file_extension": ".py",
   "mimetype": "text/x-python",
   "name": "python",
   "nbconvert_exporter": "python",
   "pygments_lexer": "ipython2",
   "version": "2.7.6"
  }
 },
 "nbformat": 4,
 "nbformat_minor": 5
}
