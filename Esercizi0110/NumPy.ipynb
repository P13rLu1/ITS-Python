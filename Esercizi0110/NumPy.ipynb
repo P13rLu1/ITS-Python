{
 "cells": [
  {
   "metadata": {},
   "cell_type": "markdown",
   "source": "# NumPy",
   "id": "888ea3468180fc37"
  },
  {
   "metadata": {},
   "cell_type": "markdown",
   "source": "## Ho creato un array NumPy da una lista",
   "id": "aa54e41a094af6ed"
  },
  {
   "metadata": {
    "ExecuteTime": {
     "end_time": "2024-10-01T17:18:03.240459Z",
     "start_time": "2024-10-01T17:18:03.000638Z"
    }
   },
   "cell_type": "code",
   "source": [
    "import numpy as np\n",
    "list = [1,2,6]\n",
    "\n",
    "array1 = np.array(list)\n",
    "print(array1)"
   ],
   "id": "389a17b2c74dbbbc",
   "outputs": [
    {
     "name": "stdout",
     "output_type": "stream",
     "text": [
      "[1 2 6]\n"
     ]
    }
   ],
   "execution_count": 1
  },
  {
   "metadata": {},
   "cell_type": "markdown",
   "source": "### Ho fatto una matrice ",
   "id": "afbbb069f923e79f"
  },
  {
   "metadata": {
    "ExecuteTime": {
     "end_time": "2024-10-01T17:19:55.862033Z",
     "start_time": "2024-10-01T17:19:55.855877Z"
    }
   },
   "cell_type": "code",
   "source": [
    "lista2 = [7,1,2]\n",
    "\n",
    "array2 = np.array([list, lista2])\n",
    "array2 = np.array([[2,3,4],[1,1,1]])\n",
    "\n",
    "print(array2)"
   ],
   "id": "9db0e380c01c9d06",
   "outputs": [
    {
     "name": "stdout",
     "output_type": "stream",
     "text": [
      "[[2 3 4]\n",
      " [1 1 1]]\n"
     ]
    }
   ],
   "execution_count": 2
  },
  {
   "metadata": {},
   "cell_type": "markdown",
   "source": "#### Ndim mi dice la dimensione dell'array",
   "id": "d2db75d4eb87695f"
  },
  {
   "metadata": {
    "ExecuteTime": {
     "end_time": "2024-10-01T17:20:17.961356Z",
     "start_time": "2024-10-01T17:20:17.954215Z"
    }
   },
   "cell_type": "code",
   "source": "array2.ndim",
   "id": "b6e7cd6f48f09f73",
   "outputs": [
    {
     "data": {
      "text/plain": [
       "2"
      ]
     },
     "execution_count": 3,
     "metadata": {},
     "output_type": "execute_result"
    }
   ],
   "execution_count": 3
  },
  {
   "metadata": {},
   "cell_type": "markdown",
   "source": "#### Shape mi dice la forma dell'array",
   "id": "e5854934dfae17cd"
  },
  {
   "metadata": {
    "ExecuteTime": {
     "end_time": "2024-10-01T17:20:51.724027Z",
     "start_time": "2024-10-01T17:20:51.719021Z"
    }
   },
   "cell_type": "code",
   "source": "array2.shape",
   "id": "79763e12f6486fec",
   "outputs": [
    {
     "data": {
      "text/plain": [
       "(2, 3)"
      ]
     },
     "execution_count": 4,
     "metadata": {},
     "output_type": "execute_result"
    }
   ],
   "execution_count": 4
  },
  {
   "metadata": {},
   "cell_type": "markdown",
   "source": "#### Size mi dice il numero di elementi dell'array",
   "id": "7e5b73f2ad939196"
  },
  {
   "metadata": {
    "ExecuteTime": {
     "end_time": "2024-10-01T17:21:04.645072Z",
     "start_time": "2024-10-01T17:21:04.639075Z"
    }
   },
   "cell_type": "code",
   "source": "array2.size",
   "id": "5fdf4481bec41258",
   "outputs": [
    {
     "data": {
      "text/plain": [
       "6"
      ]
     },
     "execution_count": 5,
     "metadata": {},
     "output_type": "execute_result"
    }
   ],
   "execution_count": 5
  },
  {
   "metadata": {},
   "cell_type": "markdown",
   "source": "#### Ho Creato una matrice, con 3 array, ognuna da 4 elementi ogni elemento è 8",
   "id": "82b4809fe00b17cc"
  },
  {
   "metadata": {
    "ExecuteTime": {
     "end_time": "2024-10-01T17:21:48.435024Z",
     "start_time": "2024-10-01T17:21:48.429968Z"
    }
   },
   "cell_type": "code",
   "source": [
    "array_8 = np.ones((3,4))*8\n",
    "print(array_8)"
   ],
   "id": "cf04654022bcf09a",
   "outputs": [
    {
     "name": "stdout",
     "output_type": "stream",
     "text": [
      "[[8. 8. 8. 8.]\n",
      " [8. 8. 8. 8.]\n",
      " [8. 8. 8. 8.]]\n"
     ]
    }
   ],
   "execution_count": 6
  }
 ],
 "metadata": {
  "kernelspec": {
   "display_name": "Python 3",
   "language": "python",
   "name": "python3"
  },
  "language_info": {
   "codemirror_mode": {
    "name": "ipython",
    "version": 2
   },
   "file_extension": ".py",
   "mimetype": "text/x-python",
   "name": "python",
   "nbconvert_exporter": "python",
   "pygments_lexer": "ipython2",
   "version": "2.7.6"
  }
 },
 "nbformat": 4,
 "nbformat_minor": 5
}
