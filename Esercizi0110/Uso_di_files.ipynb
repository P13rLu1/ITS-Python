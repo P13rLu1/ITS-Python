{
 "cells": [
  {
   "metadata": {},
   "cell_type": "markdown",
   "source": "# Uso di files",
   "id": "a61733615176b6d0"
  },
  {
   "metadata": {},
   "cell_type": "markdown",
   "source": "## Lettura di un file",
   "id": "1f522577b462bc1f"
  },
  {
   "cell_type": "code",
   "id": "initial_id",
   "metadata": {
    "collapsed": true,
    "ExecuteTime": {
     "end_time": "2024-10-01T17:15:39.366158Z",
     "start_time": "2024-10-01T17:15:39.362851Z"
    }
   },
   "source": [
    "file_path = \"./dataset/\"\n",
    "dataset = \"players.txt\""
   ],
   "outputs": [],
   "execution_count": 3
  },
  {
   "metadata": {},
   "cell_type": "markdown",
   "source": "### Lettura di un file di testo",
   "id": "7ded1e3afdf4e8c8"
  },
  {
   "metadata": {
    "ExecuteTime": {
     "end_time": "2024-10-01T17:15:44.764180Z",
     "start_time": "2024-10-01T17:15:44.757686Z"
    }
   },
   "cell_type": "code",
   "source": [
    "input_file = open(file_path+ dataset, \"r\")\n",
    "\n",
    "for line in input_file:\n",
    "    print(line)"
   ],
   "id": "6a6c47d6a2ee5da",
   "outputs": [
    {
     "name": "stdout",
     "output_type": "stream",
     "text": [
      "FirstName LastName Position Team Completions Attempts Yards TDs Ints Comp% Rating\n",
      "\n",
      "Colt McCoy QB CLE  135 222 1576    6   9   60.8%   74.5\n",
      "\n",
      "Josh Freeman QB TB 291 474 3451    25  6   61.4%   95.9\n",
      "\n",
      "Michael Vick QB PHI    233 372 3018    21  6   62.6%   100.2\n",
      "\n",
      "Matt Schaub QB HOU 365 574 4370    24  12  63.6%   92.0\n",
      "\n",
      "Philip Rivers QB SD    357 541 4710    30  13  66.0%   101.8\n",
      "\n",
      "Matt Hasselbeck QB SEA 266 444 3001    12  17  59.9%   73.2\n",
      "\n",
      "Jimmy Clausen QB CAR   157 299 1558    3   9   52.5%   58.4\n",
      "\n",
      "Joe Flacco QB BAL  306 489 3622    25  10  62.6%   93.6\n",
      "\n",
      "Kyle Orton QB DEN  293 498 3653    20  9   58.8%   87.5\n",
      "\n",
      "Jason Campbell QB OAK  194 329 2387    13  8   59.0%   84.5\n",
      "\n",
      "Peyton Manning QB IND  450 679 4700    33  17  66.3%   91.9\n",
      "\n",
      "Drew Brees QB NO   448 658 4620    33  22  68.1%   90.9\n",
      "\n",
      "Matt Ryan QB ATL   357 571 3705    28  9   62.5%   91.0\n",
      "\n",
      "Matt Cassel QB KC  262 450 3116    27  7   58.2%   93.0\n",
      "\n",
      "Mark Sanchez QB NYJ    278 507 3291    17  13  54.8%   75.3\n",
      "\n",
      "Brett Favre QB MIN 217 358 2509    11  19  60.6%   69.9\n",
      "\n",
      "David Garrard QB JAC   236 366 2734    23  15  64.5%   90.8\n",
      "\n",
      "Eli Manning QB NYG 339 539 4002    31  25  62.9%   85.3\n",
      "\n",
      "Carson Palmer QB CIN   362 586 3970    26  20  61.8%   82.4\n",
      "\n",
      "Alex Smith QB SF   204 342 2370    14  10  59.6%   82.1\n",
      "\n",
      "Chad Henne QB MIA  301 490 3301    15  19  61.4%   75.4\n",
      "\n",
      "Tony Romo QB DAL   148 213 1605    11  7   69.5%   94.9\n",
      "\n",
      "Jay Cutler QB CHI  261 432 3274    23  16  60.4%   86.3\n",
      "\n",
      "Jon Kitna QB DAL   209 318 2365    16  12  65.7%   88.9\n",
      "\n",
      "Tom Brady QB NE    324 492 3900    36  4   65.9%   111.0\n",
      "\n",
      "Ben Roethlisberger QB PIT  240 389 3200    17  5   61.7%   97.0\n",
      "\n",
      "Kerry Collins QB TEN   160 278 1823    14  8   57.6%   82.2\n",
      "\n",
      "Derek Anderson QB ARI  169 327 2065    7   10  51.7%   65.9\n",
      "\n",
      "Ryan Fitzpatrick QB BUF    255 441 3000    23  15  57.8%   81.8\n",
      "\n",
      "Donovan McNabb QB WAS  275 472 3377    14  15  58.3%   77.1\n",
      "\n",
      "Kevin Kolb QB PHI  115 189 1197    7   7   60.8%   76.1\n",
      "\n",
      "Aaron Rodgers QB GB    312 475 3922    28  11  65.7%   101.2\n",
      "\n",
      "Sam Bradford QB STL    354 590 3512    18  15  60.0%   76.5\n",
      "\n",
      "Shaun Hill QB DET  257 416 2686    16  12  61.8%   81.3\n"
     ]
    }
   ],
   "execution_count": 4
  }
 ],
 "metadata": {
  "kernelspec": {
   "display_name": "Python 3",
   "language": "python",
   "name": "python3"
  },
  "language_info": {
   "codemirror_mode": {
    "name": "ipython",
    "version": 2
   },
   "file_extension": ".py",
   "mimetype": "text/x-python",
   "name": "python",
   "nbconvert_exporter": "python",
   "pygments_lexer": "ipython2",
   "version": "2.7.6"
  }
 },
 "nbformat": 4,
 "nbformat_minor": 5
}
