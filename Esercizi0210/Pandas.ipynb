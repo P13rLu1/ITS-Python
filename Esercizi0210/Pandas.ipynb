{
 "cells": [
  {
   "metadata": {},
   "cell_type": "markdown",
   "source": "# Dataframe",
   "id": "953b96bb42d51fba"
  },
  {
   "metadata": {},
   "cell_type": "markdown",
   "source": "## Creazione di un dataframe da Series",
   "id": "6578414d973a61f8"
  },
  {
   "metadata": {},
   "cell_type": "code",
   "source": [
    "import pandas as pd\n",
    "\n",
    "s1 = pd.Series(data=[1, 2, 3])\n",
    "print(s1)"
   ],
   "id": "efd8b28eaa5e672b",
   "outputs": [],
   "execution_count": null
  },
  {
   "metadata": {},
   "cell_type": "markdown",
   "source": "### Creazione di un dataframe da una Series con un indice specifico",
   "id": "b4875f6b704ee0e0"
  },
  {
   "metadata": {},
   "cell_type": "code",
   "source": [
    "s_2dim = pd.Series([1, 2], index=['a', 'b'], name='s2')\n",
    "print(s_2dim)"
   ],
   "id": "10a6c2ea13f01d73",
   "outputs": [],
   "execution_count": null
  },
  {
   "metadata": {},
   "cell_type": "markdown",
   "source": "### Concatenazione di due Series in un dataframe con axis=1",
   "id": "c5a784f269a0f52e"
  },
  {
   "metadata": {},
   "cell_type": "code",
   "source": "s2 = pd.Series([3, 7, 2])",
   "id": "7d05dccb5d712cf",
   "outputs": [],
   "execution_count": null
  },
  {
   "metadata": {},
   "cell_type": "code",
   "source": [
    "s_tot = pd.concat([s1, s2], axis=1)\n",
    "print(s_tot)"
   ],
   "id": "cba4ba494706384a",
   "outputs": [],
   "execution_count": null
  },
  {
   "metadata": {},
   "cell_type": "markdown",
   "source": "### Concatenzione di due Series dove ci stanno dati not a number",
   "id": "93a119ce735dd87d"
  },
  {
   "metadata": {},
   "cell_type": "code",
   "source": [
    "s_nonomog = pd.concat([s1, s_2dim], axis=1)\n",
    "print(s_nonomog)"
   ],
   "id": "7dc320897709a6ed",
   "outputs": [],
   "execution_count": null
  },
  {
   "metadata": {},
   "cell_type": "markdown",
   "source": "## Creazione di un dataframe da un dizionario",
   "id": "ced1bec1a063ab3b"
  },
  {
   "metadata": {},
   "cell_type": "code",
   "source": [
    "studenti = {'Barone Matteo': ['9:00', '15:00'], 'Costa Luca': ['9:00', '14:45'], 'Petrachi Giulio': ['10:00', '14:45']}\n",
    "print(studenti)"
   ],
   "id": "69a16b363029e9a7",
   "outputs": [],
   "execution_count": null
  },
  {
   "metadata": {},
   "cell_type": "code",
   "source": "studenti['Costa Luca']",
   "id": "815b47b4fe4ce4f7",
   "outputs": [],
   "execution_count": null
  },
  {
   "metadata": {},
   "cell_type": "code",
   "source": [
    "studenti_df = pd.DataFrame(studenti)\n",
    "print(studenti_df)"
   ],
   "id": "ca43c6687483afe3",
   "outputs": [],
   "execution_count": null
  },
  {
   "metadata": {},
   "cell_type": "markdown",
   "source": "### DataFrame Vuoto",
   "id": "13ead03d3cbdfb1c"
  },
  {
   "metadata": {},
   "cell_type": "code",
   "source": [
    "stringa = \"\"\n",
    "lista = []\n",
    "dizionario = {}\n",
    "\n",
    "df_vuoto = pd.DataFrame()\n",
    "\n",
    "if not lista:\n",
    "    print(\"Lista vuota\")\n",
    "if not stringa:\n",
    "    print(\"Stringa vuota\")"
   ],
   "id": "1bcf8f81439f1f31",
   "outputs": [],
   "execution_count": null
  },
  {
   "metadata": {},
   "cell_type": "code",
   "source": "print(df_vuoto)",
   "id": "e77a485969d26623",
   "outputs": [],
   "execution_count": null
  },
  {
   "metadata": {},
   "cell_type": "markdown",
   "source": "## Manipolazione di un dataframe",
   "id": "2b1d1c8207f16cfc"
  },
  {
   "metadata": {},
   "cell_type": "code",
   "source": "studenti_df",
   "id": "e62f6d50fd70670b",
   "outputs": [],
   "execution_count": null
  },
  {
   "metadata": {},
   "cell_type": "code",
   "source": "print(studenti_df.columns)",
   "id": "ed906975e1ae18e1",
   "outputs": [],
   "execution_count": null
  },
  {
   "metadata": {},
   "cell_type": "code",
   "source": [
    "nuovi_nomi = []\n",
    "\n",
    "for nome in studenti_df.columns:\n",
    "    nuovi_nomi.append(nome.replace(' ', '_').lower())\n",
    "\n",
    "print(nuovi_nomi)"
   ],
   "id": "1ce9df560f784fb2",
   "outputs": [],
   "execution_count": null
  },
  {
   "metadata": {},
   "cell_type": "code",
   "source": [
    "studenti_df.columns = nuovi_nomi\n",
    "print(studenti_df)"
   ],
   "id": "898c2c81d0cde5f1",
   "outputs": [],
   "execution_count": null
  },
  {
   "metadata": {},
   "cell_type": "markdown",
   "source": "### Funzione Rename delle colonne con i nuovi valori passati come dizionario",
   "id": "a447cb0841874bd1"
  },
  {
   "metadata": {},
   "cell_type": "code",
   "source": [
    "nuovi_minuscoli = {}\n",
    "\n",
    "for colname in studenti_df.columns:\n",
    "    nuovi_minuscoli[colname] = colname.lower()\n",
    "\n",
    "print(nuovi_minuscoli)"
   ],
   "id": "2137b867cc4b75b1",
   "outputs": [],
   "execution_count": null
  },
  {
   "metadata": {},
   "cell_type": "code",
   "source": [
    "studenti_df.rename(columns=nuovi_minuscoli, inplace=True)\n",
    "\n",
    "print(studenti_df)"
   ],
   "id": "94ab6a149a0eac95",
   "outputs": [],
   "execution_count": null
  },
  {
   "metadata": {},
   "cell_type": "markdown",
   "source": "### Accedere a una colonna",
   "id": "1fa586214c3fd001"
  },
  {
   "metadata": {},
   "cell_type": "code",
   "source": [
    "orari_ps = studenti_df['barone_matteo'].to_list()\n",
    "\n",
    "print(orari_ps)"
   ],
   "id": "4727d5f6752f0f7e",
   "outputs": [],
   "execution_count": null
  },
  {
   "metadata": {},
   "cell_type": "markdown",
   "source": "### Trasformare in array numpy",
   "id": "f83a917931689ba3"
  },
  {
   "metadata": {},
   "cell_type": "code",
   "source": [
    "import numpy as np\n",
    "\n",
    "# orari_ps = studenti_df['barone_matteo'].to_numpy()\n",
    "orari_ps = np.array(studenti_df['barone_matteo'])\n",
    "\n",
    "print(orari_ps)"
   ],
   "id": "9a87579ec3b7d847",
   "outputs": [],
   "execution_count": null
  },
  {
   "metadata": {},
   "cell_type": "markdown",
   "source": "## Modifica Dell'indice",
   "id": "91f3024e36458c7a"
  },
  {
   "metadata": {},
   "cell_type": "markdown",
   "source": "#### Prima Creo la colonna da impostare come indice",
   "id": "4dbe27b1e4d2da7e"
  },
  {
   "metadata": {},
   "cell_type": "code",
   "source": [
    "indice_da_inserire = ['orario_ingresso', 'orario_uscita']\n",
    "\n",
    "studenti_df['orari'] = indice_da_inserire\n",
    "print(studenti_df)"
   ],
   "id": "b67aff47bee29106",
   "outputs": [],
   "execution_count": null
  },
  {
   "metadata": {},
   "cell_type": "code",
   "source": "studenti_df.set_index('orari', inplace=True)",
   "id": "833f31e9fe3a8c09",
   "outputs": [],
   "execution_count": null
  },
  {
   "metadata": {
    "ExecuteTime": {
     "end_time": "2024-10-02T09:05:33.417926Z",
     "start_time": "2024-10-02T09:05:33.403630Z"
    }
   },
   "cell_type": "code",
   "source": "studenti_df",
   "id": "d0616d837009852d",
   "outputs": [
    {
     "data": {
      "text/plain": [
       "                barone_matteo costa_luca petrachi_giulio\n",
       "orari                                                   \n",
       "orario_ingresso          9:00       9:00           10:00\n",
       "orario_uscita           15:00      14:45           14:45"
      ],
      "text/html": [
       "<div>\n",
       "<style scoped>\n",
       "    .dataframe tbody tr th:only-of-type {\n",
       "        vertical-align: middle;\n",
       "    }\n",
       "\n",
       "    .dataframe tbody tr th {\n",
       "        vertical-align: top;\n",
       "    }\n",
       "\n",
       "    .dataframe thead th {\n",
       "        text-align: right;\n",
       "    }\n",
       "</style>\n",
       "<table border=\"1\" class=\"dataframe\">\n",
       "  <thead>\n",
       "    <tr style=\"text-align: right;\">\n",
       "      <th></th>\n",
       "      <th>barone_matteo</th>\n",
       "      <th>costa_luca</th>\n",
       "      <th>petrachi_giulio</th>\n",
       "    </tr>\n",
       "    <tr>\n",
       "      <th>orari</th>\n",
       "      <th></th>\n",
       "      <th></th>\n",
       "      <th></th>\n",
       "    </tr>\n",
       "  </thead>\n",
       "  <tbody>\n",
       "    <tr>\n",
       "      <th>orario_ingresso</th>\n",
       "      <td>9:00</td>\n",
       "      <td>9:00</td>\n",
       "      <td>10:00</td>\n",
       "    </tr>\n",
       "    <tr>\n",
       "      <th>orario_uscita</th>\n",
       "      <td>15:00</td>\n",
       "      <td>14:45</td>\n",
       "      <td>14:45</td>\n",
       "    </tr>\n",
       "  </tbody>\n",
       "</table>\n",
       "</div>"
      ]
     },
     "execution_count": 274,
     "metadata": {},
     "output_type": "execute_result"
    }
   ],
   "execution_count": 274
  },
  {
   "metadata": {},
   "cell_type": "markdown",
   "source": "### Reset dell'indice",
   "id": "ffdf47cfc68b5ab5"
  },
  {
   "metadata": {},
   "cell_type": "code",
   "source": [
    "studenti_df.reset_index(drop = True ,inplace=True)\n",
    "print(studenti_df)"
   ],
   "id": "f87b9be96b7e06f5",
   "outputs": [],
   "execution_count": null
  }
 ],
 "metadata": {
  "kernelspec": {
   "display_name": "Python 3",
   "language": "python",
   "name": "python3"
  },
  "language_info": {
   "codemirror_mode": {
    "name": "ipython",
    "version": 2
   },
   "file_extension": ".py",
   "mimetype": "text/x-python",
   "name": "python",
   "nbconvert_exporter": "python",
   "pygments_lexer": "ipython2",
   "version": "2.7.6"
  }
 },
 "nbformat": 4,
 "nbformat_minor": 5
}
