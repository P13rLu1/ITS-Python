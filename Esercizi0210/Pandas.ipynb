{
 "cells": [
  {
   "metadata": {},
   "cell_type": "markdown",
   "source": "# Dataframe",
   "id": "953b96bb42d51fba"
  },
  {
   "metadata": {},
   "cell_type": "markdown",
   "source": "## Creazione di un dataframe da Series",
   "id": "6578414d973a61f8"
  },
  {
   "metadata": {
    "ExecuteTime": {
     "end_time": "2024-10-02T10:53:09.066561Z",
     "start_time": "2024-10-02T10:53:08.065538Z"
    }
   },
   "cell_type": "code",
   "source": [
    "import pandas as pd\n",
    "\n",
    "s1 = pd.Series(data=[1, 2, 3])\n",
    "print(s1)"
   ],
   "id": "efd8b28eaa5e672b",
   "outputs": [
    {
     "name": "stdout",
     "output_type": "stream",
     "text": [
      "0    1\n",
      "1    2\n",
      "2    3\n",
      "dtype: int64\n"
     ]
    }
   ],
   "execution_count": 1
  },
  {
   "metadata": {},
   "cell_type": "markdown",
   "source": "### Creazione di un dataframe da una Series con un indice specifico",
   "id": "b4875f6b704ee0e0"
  },
  {
   "metadata": {
    "ExecuteTime": {
     "end_time": "2024-10-02T10:53:09.165047Z",
     "start_time": "2024-10-02T10:53:09.152649Z"
    }
   },
   "cell_type": "code",
   "source": [
    "s_2dim = pd.Series([1, 2], index=['a', 'b'], name='s2')\n",
    "print(s_2dim)"
   ],
   "id": "10a6c2ea13f01d73",
   "outputs": [
    {
     "name": "stdout",
     "output_type": "stream",
     "text": [
      "a    1\n",
      "b    2\n",
      "Name: s2, dtype: int64\n"
     ]
    }
   ],
   "execution_count": 2
  },
  {
   "metadata": {},
   "cell_type": "markdown",
   "source": "### Concatenazione di due Series in un dataframe con axis=1",
   "id": "c5a784f269a0f52e"
  },
  {
   "metadata": {
    "ExecuteTime": {
     "end_time": "2024-10-02T10:53:09.448183Z",
     "start_time": "2024-10-02T10:53:09.443451Z"
    }
   },
   "cell_type": "code",
   "source": "s2 = pd.Series([3, 7, 2])",
   "id": "7d05dccb5d712cf",
   "outputs": [],
   "execution_count": 3
  },
  {
   "metadata": {
    "ExecuteTime": {
     "end_time": "2024-10-02T10:53:09.467512Z",
     "start_time": "2024-10-02T10:53:09.459163Z"
    }
   },
   "cell_type": "code",
   "source": [
    "s_tot = pd.concat([s1, s2], axis=1)\n",
    "print(s_tot)"
   ],
   "id": "cba4ba494706384a",
   "outputs": [
    {
     "name": "stdout",
     "output_type": "stream",
     "text": [
      "   0  1\n",
      "0  1  3\n",
      "1  2  7\n",
      "2  3  2\n"
     ]
    }
   ],
   "execution_count": 4
  },
  {
   "metadata": {},
   "cell_type": "markdown",
   "source": "### Concatenzione di due Series dove ci stanno dati not a number",
   "id": "93a119ce735dd87d"
  },
  {
   "metadata": {
    "ExecuteTime": {
     "end_time": "2024-10-02T10:53:09.502571Z",
     "start_time": "2024-10-02T10:53:09.485339Z"
    }
   },
   "cell_type": "code",
   "source": [
    "s_nonomog = pd.concat([s1, s_2dim], axis=1)\n",
    "print(s_nonomog)"
   ],
   "id": "7dc320897709a6ed",
   "outputs": [
    {
     "name": "stdout",
     "output_type": "stream",
     "text": [
      "     0   s2\n",
      "0  1.0  NaN\n",
      "1  2.0  NaN\n",
      "2  3.0  NaN\n",
      "a  NaN  1.0\n",
      "b  NaN  2.0\n"
     ]
    }
   ],
   "execution_count": 5
  },
  {
   "metadata": {},
   "cell_type": "markdown",
   "source": "## Creazione di un dataframe da un dizionario",
   "id": "ced1bec1a063ab3b"
  },
  {
   "metadata": {
    "ExecuteTime": {
     "end_time": "2024-10-02T10:53:09.634449Z",
     "start_time": "2024-10-02T10:53:09.628845Z"
    }
   },
   "cell_type": "code",
   "source": [
    "studenti = {'Barone Matteo': ['9:00', '15:00'], 'Costa Luca': ['9:00', '14:45'], 'Petrachi Giulio': ['10:00', '14:45']}\n",
    "print(studenti)"
   ],
   "id": "69a16b363029e9a7",
   "outputs": [
    {
     "name": "stdout",
     "output_type": "stream",
     "text": [
      "{'Barone Matteo': ['9:00', '15:00'], 'Costa Luca': ['9:00', '14:45'], 'Petrachi Giulio': ['10:00', '14:45']}\n"
     ]
    }
   ],
   "execution_count": 6
  },
  {
   "metadata": {
    "ExecuteTime": {
     "end_time": "2024-10-02T10:53:09.746664Z",
     "start_time": "2024-10-02T10:53:09.737614Z"
    }
   },
   "cell_type": "code",
   "source": "studenti['Costa Luca']",
   "id": "815b47b4fe4ce4f7",
   "outputs": [
    {
     "data": {
      "text/plain": [
       "['9:00', '14:45']"
      ]
     },
     "execution_count": 7,
     "metadata": {},
     "output_type": "execute_result"
    }
   ],
   "execution_count": 7
  },
  {
   "metadata": {
    "ExecuteTime": {
     "end_time": "2024-10-02T10:53:09.832466Z",
     "start_time": "2024-10-02T10:53:09.823162Z"
    }
   },
   "cell_type": "code",
   "source": [
    "studenti_df = pd.DataFrame(studenti)\n",
    "print(studenti_df)"
   ],
   "id": "ca43c6687483afe3",
   "outputs": [
    {
     "name": "stdout",
     "output_type": "stream",
     "text": [
      "  Barone Matteo Costa Luca Petrachi Giulio\n",
      "0          9:00       9:00           10:00\n",
      "1         15:00      14:45           14:45\n"
     ]
    }
   ],
   "execution_count": 8
  },
  {
   "metadata": {},
   "cell_type": "markdown",
   "source": "### DataFrame Vuoto",
   "id": "13ead03d3cbdfb1c"
  },
  {
   "metadata": {
    "ExecuteTime": {
     "end_time": "2024-10-02T10:53:09.902826Z",
     "start_time": "2024-10-02T10:53:09.894710Z"
    }
   },
   "cell_type": "code",
   "source": [
    "stringa = \"\"\n",
    "lista = []\n",
    "dizionario = {}\n",
    "\n",
    "df_vuoto = pd.DataFrame()\n",
    "\n",
    "if not lista:\n",
    "    print(\"Lista vuota\")\n",
    "if not stringa:\n",
    "    print(\"Stringa vuota\")"
   ],
   "id": "1bcf8f81439f1f31",
   "outputs": [
    {
     "name": "stdout",
     "output_type": "stream",
     "text": [
      "Lista vuota\n",
      "Stringa vuota\n"
     ]
    }
   ],
   "execution_count": 9
  },
  {
   "metadata": {
    "ExecuteTime": {
     "end_time": "2024-10-02T10:53:09.968235Z",
     "start_time": "2024-10-02T10:53:09.961980Z"
    }
   },
   "cell_type": "code",
   "source": "print(df_vuoto)",
   "id": "e77a485969d26623",
   "outputs": [
    {
     "name": "stdout",
     "output_type": "stream",
     "text": [
      "Empty DataFrame\n",
      "Columns: []\n",
      "Index: []\n"
     ]
    }
   ],
   "execution_count": 10
  },
  {
   "metadata": {},
   "cell_type": "markdown",
   "source": "## Manipolazione di un dataframe",
   "id": "2b1d1c8207f16cfc"
  },
  {
   "metadata": {
    "ExecuteTime": {
     "end_time": "2024-10-02T10:53:10.043034Z",
     "start_time": "2024-10-02T10:53:10.030332Z"
    }
   },
   "cell_type": "code",
   "source": "studenti_df",
   "id": "e62f6d50fd70670b",
   "outputs": [
    {
     "data": {
      "text/plain": [
       "  Barone Matteo Costa Luca Petrachi Giulio\n",
       "0          9:00       9:00           10:00\n",
       "1         15:00      14:45           14:45"
      ],
      "text/html": [
       "<div>\n",
       "<style scoped>\n",
       "    .dataframe tbody tr th:only-of-type {\n",
       "        vertical-align: middle;\n",
       "    }\n",
       "\n",
       "    .dataframe tbody tr th {\n",
       "        vertical-align: top;\n",
       "    }\n",
       "\n",
       "    .dataframe thead th {\n",
       "        text-align: right;\n",
       "    }\n",
       "</style>\n",
       "<table border=\"1\" class=\"dataframe\">\n",
       "  <thead>\n",
       "    <tr style=\"text-align: right;\">\n",
       "      <th></th>\n",
       "      <th>Barone Matteo</th>\n",
       "      <th>Costa Luca</th>\n",
       "      <th>Petrachi Giulio</th>\n",
       "    </tr>\n",
       "  </thead>\n",
       "  <tbody>\n",
       "    <tr>\n",
       "      <th>0</th>\n",
       "      <td>9:00</td>\n",
       "      <td>9:00</td>\n",
       "      <td>10:00</td>\n",
       "    </tr>\n",
       "    <tr>\n",
       "      <th>1</th>\n",
       "      <td>15:00</td>\n",
       "      <td>14:45</td>\n",
       "      <td>14:45</td>\n",
       "    </tr>\n",
       "  </tbody>\n",
       "</table>\n",
       "</div>"
      ]
     },
     "execution_count": 11,
     "metadata": {},
     "output_type": "execute_result"
    }
   ],
   "execution_count": 11
  },
  {
   "metadata": {
    "ExecuteTime": {
     "end_time": "2024-10-02T10:53:10.109739Z",
     "start_time": "2024-10-02T10:53:10.103731Z"
    }
   },
   "cell_type": "code",
   "source": "print(studenti_df.columns)",
   "id": "ed906975e1ae18e1",
   "outputs": [
    {
     "name": "stdout",
     "output_type": "stream",
     "text": [
      "Index(['Barone Matteo', 'Costa Luca', 'Petrachi Giulio'], dtype='object')\n"
     ]
    }
   ],
   "execution_count": 12
  },
  {
   "metadata": {
    "ExecuteTime": {
     "end_time": "2024-10-02T10:53:10.179608Z",
     "start_time": "2024-10-02T10:53:10.174381Z"
    }
   },
   "cell_type": "code",
   "source": [
    "nuovi_nomi = []\n",
    "\n",
    "for nome in studenti_df.columns:\n",
    "    nuovi_nomi.append(nome.replace(' ', '_').lower())\n",
    "\n",
    "print(nuovi_nomi)"
   ],
   "id": "1ce9df560f784fb2",
   "outputs": [
    {
     "name": "stdout",
     "output_type": "stream",
     "text": [
      "['barone_matteo', 'costa_luca', 'petrachi_giulio']\n"
     ]
    }
   ],
   "execution_count": 13
  },
  {
   "metadata": {
    "ExecuteTime": {
     "end_time": "2024-10-02T10:53:10.319234Z",
     "start_time": "2024-10-02T10:53:10.313147Z"
    }
   },
   "cell_type": "code",
   "source": [
    "studenti_df.columns = nuovi_nomi\n",
    "print(studenti_df)"
   ],
   "id": "898c2c81d0cde5f1",
   "outputs": [
    {
     "name": "stdout",
     "output_type": "stream",
     "text": [
      "  barone_matteo costa_luca petrachi_giulio\n",
      "0          9:00       9:00           10:00\n",
      "1         15:00      14:45           14:45\n"
     ]
    }
   ],
   "execution_count": 14
  },
  {
   "metadata": {},
   "cell_type": "markdown",
   "source": "### Funzione Rename delle colonne con i nuovi valori passati come dizionario",
   "id": "a447cb0841874bd1"
  },
  {
   "metadata": {
    "ExecuteTime": {
     "end_time": "2024-10-02T10:53:10.553477Z",
     "start_time": "2024-10-02T10:53:10.546263Z"
    }
   },
   "cell_type": "code",
   "source": [
    "nuovi_minuscoli = {}\n",
    "\n",
    "for colname in studenti_df.columns:\n",
    "    nuovi_minuscoli[colname] = colname.lower()\n",
    "\n",
    "print(nuovi_minuscoli)"
   ],
   "id": "2137b867cc4b75b1",
   "outputs": [
    {
     "name": "stdout",
     "output_type": "stream",
     "text": [
      "{'barone_matteo': 'barone_matteo', 'costa_luca': 'costa_luca', 'petrachi_giulio': 'petrachi_giulio'}\n"
     ]
    }
   ],
   "execution_count": 15
  },
  {
   "metadata": {
    "ExecuteTime": {
     "end_time": "2024-10-02T10:53:10.647438Z",
     "start_time": "2024-10-02T10:53:10.638255Z"
    }
   },
   "cell_type": "code",
   "source": [
    "studenti_df.rename(columns=nuovi_minuscoli, inplace=True)\n",
    "\n",
    "print(studenti_df)"
   ],
   "id": "94ab6a149a0eac95",
   "outputs": [
    {
     "name": "stdout",
     "output_type": "stream",
     "text": [
      "  barone_matteo costa_luca petrachi_giulio\n",
      "0          9:00       9:00           10:00\n",
      "1         15:00      14:45           14:45\n"
     ]
    }
   ],
   "execution_count": 16
  },
  {
   "metadata": {},
   "cell_type": "markdown",
   "source": "### Accedere a una colonna",
   "id": "1fa586214c3fd001"
  },
  {
   "metadata": {
    "ExecuteTime": {
     "end_time": "2024-10-02T10:53:10.760470Z",
     "start_time": "2024-10-02T10:53:10.754471Z"
    }
   },
   "cell_type": "code",
   "source": [
    "orari_ps = studenti_df['barone_matteo'].to_list()\n",
    "\n",
    "print(orari_ps)"
   ],
   "id": "4727d5f6752f0f7e",
   "outputs": [
    {
     "name": "stdout",
     "output_type": "stream",
     "text": [
      "['9:00', '15:00']\n"
     ]
    }
   ],
   "execution_count": 17
  },
  {
   "metadata": {},
   "cell_type": "markdown",
   "source": "### Trasformare in array numpy",
   "id": "f83a917931689ba3"
  },
  {
   "metadata": {
    "ExecuteTime": {
     "end_time": "2024-10-02T10:53:10.850366Z",
     "start_time": "2024-10-02T10:53:10.842158Z"
    }
   },
   "cell_type": "code",
   "source": [
    "import numpy as np\n",
    "\n",
    "# orari_ps = studenti_df['barone_matteo'].to_numpy()\n",
    "orari_ps = np.array(studenti_df['barone_matteo'])\n",
    "\n",
    "print(orari_ps)"
   ],
   "id": "9a87579ec3b7d847",
   "outputs": [
    {
     "name": "stdout",
     "output_type": "stream",
     "text": [
      "['9:00' '15:00']\n"
     ]
    }
   ],
   "execution_count": 18
  },
  {
   "metadata": {},
   "cell_type": "markdown",
   "source": "## Modifica Dell'indice",
   "id": "91f3024e36458c7a"
  },
  {
   "metadata": {},
   "cell_type": "markdown",
   "source": "#### Prima Creo la colonna da impostare come indice",
   "id": "4dbe27b1e4d2da7e"
  },
  {
   "metadata": {
    "ExecuteTime": {
     "end_time": "2024-10-02T10:53:10.951576Z",
     "start_time": "2024-10-02T10:53:10.942573Z"
    }
   },
   "cell_type": "code",
   "source": [
    "indice_da_inserire = ['orario_ingresso', 'orario_uscita']\n",
    "\n",
    "studenti_df['orari'] = indice_da_inserire\n",
    "print(studenti_df)"
   ],
   "id": "b67aff47bee29106",
   "outputs": [
    {
     "name": "stdout",
     "output_type": "stream",
     "text": [
      "  barone_matteo costa_luca petrachi_giulio            orari\n",
      "0          9:00       9:00           10:00  orario_ingresso\n",
      "1         15:00      14:45           14:45    orario_uscita\n"
     ]
    }
   ],
   "execution_count": 19
  },
  {
   "metadata": {
    "ExecuteTime": {
     "end_time": "2024-10-02T10:53:11.002054Z",
     "start_time": "2024-10-02T10:53:10.994012Z"
    }
   },
   "cell_type": "code",
   "source": "studenti_df.set_index('orari', inplace=True)",
   "id": "833f31e9fe3a8c09",
   "outputs": [],
   "execution_count": 20
  },
  {
   "metadata": {
    "ExecuteTime": {
     "end_time": "2024-10-02T10:53:11.069301Z",
     "start_time": "2024-10-02T10:53:11.061091Z"
    }
   },
   "cell_type": "code",
   "source": "studenti_df",
   "id": "d0616d837009852d",
   "outputs": [
    {
     "data": {
      "text/plain": [
       "                barone_matteo costa_luca petrachi_giulio\n",
       "orari                                                   \n",
       "orario_ingresso          9:00       9:00           10:00\n",
       "orario_uscita           15:00      14:45           14:45"
      ],
      "text/html": [
       "<div>\n",
       "<style scoped>\n",
       "    .dataframe tbody tr th:only-of-type {\n",
       "        vertical-align: middle;\n",
       "    }\n",
       "\n",
       "    .dataframe tbody tr th {\n",
       "        vertical-align: top;\n",
       "    }\n",
       "\n",
       "    .dataframe thead th {\n",
       "        text-align: right;\n",
       "    }\n",
       "</style>\n",
       "<table border=\"1\" class=\"dataframe\">\n",
       "  <thead>\n",
       "    <tr style=\"text-align: right;\">\n",
       "      <th></th>\n",
       "      <th>barone_matteo</th>\n",
       "      <th>costa_luca</th>\n",
       "      <th>petrachi_giulio</th>\n",
       "    </tr>\n",
       "    <tr>\n",
       "      <th>orari</th>\n",
       "      <th></th>\n",
       "      <th></th>\n",
       "      <th></th>\n",
       "    </tr>\n",
       "  </thead>\n",
       "  <tbody>\n",
       "    <tr>\n",
       "      <th>orario_ingresso</th>\n",
       "      <td>9:00</td>\n",
       "      <td>9:00</td>\n",
       "      <td>10:00</td>\n",
       "    </tr>\n",
       "    <tr>\n",
       "      <th>orario_uscita</th>\n",
       "      <td>15:00</td>\n",
       "      <td>14:45</td>\n",
       "      <td>14:45</td>\n",
       "    </tr>\n",
       "  </tbody>\n",
       "</table>\n",
       "</div>"
      ]
     },
     "execution_count": 21,
     "metadata": {},
     "output_type": "execute_result"
    }
   ],
   "execution_count": 21
  },
  {
   "metadata": {},
   "cell_type": "markdown",
   "source": "### Reset dell'indice",
   "id": "ffdf47cfc68b5ab5"
  },
  {
   "metadata": {
    "ExecuteTime": {
     "end_time": "2024-10-02T10:53:11.160737Z",
     "start_time": "2024-10-02T10:53:11.156617Z"
    }
   },
   "cell_type": "code",
   "source": [
    "# studenti_df.reset_index(drop = True ,inplace=True)\n",
    "# print(studenti_df)"
   ],
   "id": "f87b9be96b7e06f5",
   "outputs": [],
   "execution_count": 22
  },
  {
   "metadata": {},
   "cell_type": "markdown",
   "source": "## Accesso alle righe",
   "id": "9aa4316b5f3a7556"
  },
  {
   "metadata": {
    "ExecuteTime": {
     "end_time": "2024-10-02T10:53:11.240851Z",
     "start_time": "2024-10-02T10:53:11.235413Z"
    }
   },
   "cell_type": "code",
   "source": [
    "#iloc: numero progressivo della riga\n",
    "pg_uscita = studenti_df['petrachi_giulio'].iloc[1]\n",
    "print(pg_uscita)"
   ],
   "id": "fa6bd1473350d119",
   "outputs": [
    {
     "name": "stdout",
     "output_type": "stream",
     "text": [
      "14:45\n"
     ]
    }
   ],
   "execution_count": 23
  },
  {
   "metadata": {},
   "cell_type": "markdown",
   "source": "### Accesso alle righe con loc",
   "id": "354d46fdd3e1a7bf"
  },
  {
   "metadata": {
    "ExecuteTime": {
     "end_time": "2024-10-02T10:53:11.490008Z",
     "start_time": "2024-10-02T10:53:11.482854Z"
    }
   },
   "cell_type": "code",
   "source": [
    "pg_ingresso = studenti_df.loc['orario_ingresso', 'petrachi_giulio']\n",
    "print(pg_ingresso)"
   ],
   "id": "698ec11fc09ff992",
   "outputs": [
    {
     "name": "stdout",
     "output_type": "stream",
     "text": [
      "10:00\n"
     ]
    }
   ],
   "execution_count": 24
  },
  {
   "metadata": {},
   "cell_type": "markdown",
   "source": "### Loop sull'indice",
   "id": "b9cd6c444824f055"
  },
  {
   "metadata": {
    "ExecuteTime": {
     "end_time": "2024-10-02T10:53:11.603695Z",
     "start_time": "2024-10-02T10:53:11.594816Z"
    }
   },
   "cell_type": "code",
   "source": "studenti_df.index",
   "id": "9aae4d17fa85b5fd",
   "outputs": [
    {
     "data": {
      "text/plain": [
       "Index(['orario_ingresso', 'orario_uscita'], dtype='object', name='orari')"
      ]
     },
     "execution_count": 25,
     "metadata": {},
     "output_type": "execute_result"
    }
   ],
   "execution_count": 25
  },
  {
   "metadata": {
    "ExecuteTime": {
     "end_time": "2024-10-02T10:53:11.687534Z",
     "start_time": "2024-10-02T10:53:11.678505Z"
    }
   },
   "cell_type": "code",
   "source": [
    "# Voglio tutti gli orari di ingresso e uscita\n",
    "\n",
    "for orario in studenti_df.index:\n",
    "    print(orario + \":\")\n",
    "    for studente in studenti_df.columns:\n",
    "        orario_corrente = studenti_df[studente].loc[orario]\n",
    "        print(f\"{studente}: {orario} = {orario_corrente}\")"
   ],
   "id": "a8d0e79d3a831ea5",
   "outputs": [
    {
     "name": "stdout",
     "output_type": "stream",
     "text": [
      "orario_ingresso:\n",
      "barone_matteo: orario_ingresso = 9:00\n",
      "costa_luca: orario_ingresso = 9:00\n",
      "petrachi_giulio: orario_ingresso = 10:00\n",
      "orario_uscita:\n",
      "barone_matteo: orario_uscita = 15:00\n",
      "costa_luca: orario_uscita = 14:45\n",
      "petrachi_giulio: orario_uscita = 14:45\n"
     ]
    }
   ],
   "execution_count": 26
  },
  {
   "metadata": {},
   "cell_type": "markdown",
   "source": "### Aggiunta di una colonna",
   "id": "973c780ede4395a1"
  },
  {
   "metadata": {
    "ExecuteTime": {
     "end_time": "2024-10-02T10:53:11.795704Z",
     "start_time": "2024-10-02T10:53:11.786663Z"
    }
   },
   "cell_type": "code",
   "source": [
    "nuovo_studente_orari = ['8:00', '14:30']\n",
    "nuova_colonna = pd.Series(nuovo_studente_orari, name='quagnano_gabriele', index=studenti_df.index)\n",
    "\n",
    "nuova_colonna"
   ],
   "id": "6ad429639846e2b3",
   "outputs": [
    {
     "data": {
      "text/plain": [
       "orari\n",
       "orario_ingresso     8:00\n",
       "orario_uscita      14:30\n",
       "Name: quagnano_gabriele, dtype: object"
      ]
     },
     "execution_count": 27,
     "metadata": {},
     "output_type": "execute_result"
    }
   ],
   "execution_count": 27
  },
  {
   "metadata": {
    "ExecuteTime": {
     "end_time": "2024-10-02T10:53:11.887230Z",
     "start_time": "2024-10-02T10:53:11.875081Z"
    }
   },
   "cell_type": "code",
   "source": [
    "studenti_df = pd.concat([studenti_df, nuova_colonna], axis=1)\n",
    "\n",
    "studenti_df"
   ],
   "id": "de22d5e97ba674e1",
   "outputs": [
    {
     "data": {
      "text/plain": [
       "                barone_matteo costa_luca petrachi_giulio quagnano_gabriele\n",
       "orari                                                                     \n",
       "orario_ingresso          9:00       9:00           10:00              8:00\n",
       "orario_uscita           15:00      14:45           14:45             14:30"
      ],
      "text/html": [
       "<div>\n",
       "<style scoped>\n",
       "    .dataframe tbody tr th:only-of-type {\n",
       "        vertical-align: middle;\n",
       "    }\n",
       "\n",
       "    .dataframe tbody tr th {\n",
       "        vertical-align: top;\n",
       "    }\n",
       "\n",
       "    .dataframe thead th {\n",
       "        text-align: right;\n",
       "    }\n",
       "</style>\n",
       "<table border=\"1\" class=\"dataframe\">\n",
       "  <thead>\n",
       "    <tr style=\"text-align: right;\">\n",
       "      <th></th>\n",
       "      <th>barone_matteo</th>\n",
       "      <th>costa_luca</th>\n",
       "      <th>petrachi_giulio</th>\n",
       "      <th>quagnano_gabriele</th>\n",
       "    </tr>\n",
       "    <tr>\n",
       "      <th>orari</th>\n",
       "      <th></th>\n",
       "      <th></th>\n",
       "      <th></th>\n",
       "      <th></th>\n",
       "    </tr>\n",
       "  </thead>\n",
       "  <tbody>\n",
       "    <tr>\n",
       "      <th>orario_ingresso</th>\n",
       "      <td>9:00</td>\n",
       "      <td>9:00</td>\n",
       "      <td>10:00</td>\n",
       "      <td>8:00</td>\n",
       "    </tr>\n",
       "    <tr>\n",
       "      <th>orario_uscita</th>\n",
       "      <td>15:00</td>\n",
       "      <td>14:45</td>\n",
       "      <td>14:45</td>\n",
       "      <td>14:30</td>\n",
       "    </tr>\n",
       "  </tbody>\n",
       "</table>\n",
       "</div>"
      ]
     },
     "execution_count": 28,
     "metadata": {},
     "output_type": "execute_result"
    }
   ],
   "execution_count": 28
  },
  {
   "metadata": {},
   "cell_type": "markdown",
   "source": "### Aggiunta di una riga con dizionario",
   "id": "acd1ec7f8ea56647"
  },
  {
   "metadata": {
    "ExecuteTime": {
     "end_time": "2024-10-02T10:53:11.972298Z",
     "start_time": "2024-10-02T10:53:11.967251Z"
    }
   },
   "cell_type": "code",
   "source": [
    "orario_pranzo ={\n",
    "    'barone_matteo': '14:00',\n",
    "    'costa_luca': '14:00',\n",
    "    'petrachi_giulio': '14:00',\n",
    "    'quagnano_gabriele': '14:00'\n",
    "}"
   ],
   "id": "494033d93463a770",
   "outputs": [],
   "execution_count": 29
  },
  {
   "metadata": {
    "ExecuteTime": {
     "end_time": "2024-10-02T10:53:12.264444Z",
     "start_time": "2024-10-02T10:53:12.253337Z"
    }
   },
   "cell_type": "code",
   "source": [
    "studenti_df.loc['orario_pranzo'] = orario_pranzo\n",
    "studenti_df"
   ],
   "id": "a3188626f3ad9c2c",
   "outputs": [
    {
     "data": {
      "text/plain": [
       "                barone_matteo costa_luca petrachi_giulio quagnano_gabriele\n",
       "orari                                                                     \n",
       "orario_ingresso          9:00       9:00           10:00              8:00\n",
       "orario_uscita           15:00      14:45           14:45             14:30\n",
       "orario_pranzo           14:00      14:00           14:00             14:00"
      ],
      "text/html": [
       "<div>\n",
       "<style scoped>\n",
       "    .dataframe tbody tr th:only-of-type {\n",
       "        vertical-align: middle;\n",
       "    }\n",
       "\n",
       "    .dataframe tbody tr th {\n",
       "        vertical-align: top;\n",
       "    }\n",
       "\n",
       "    .dataframe thead th {\n",
       "        text-align: right;\n",
       "    }\n",
       "</style>\n",
       "<table border=\"1\" class=\"dataframe\">\n",
       "  <thead>\n",
       "    <tr style=\"text-align: right;\">\n",
       "      <th></th>\n",
       "      <th>barone_matteo</th>\n",
       "      <th>costa_luca</th>\n",
       "      <th>petrachi_giulio</th>\n",
       "      <th>quagnano_gabriele</th>\n",
       "    </tr>\n",
       "    <tr>\n",
       "      <th>orari</th>\n",
       "      <th></th>\n",
       "      <th></th>\n",
       "      <th></th>\n",
       "      <th></th>\n",
       "    </tr>\n",
       "  </thead>\n",
       "  <tbody>\n",
       "    <tr>\n",
       "      <th>orario_ingresso</th>\n",
       "      <td>9:00</td>\n",
       "      <td>9:00</td>\n",
       "      <td>10:00</td>\n",
       "      <td>8:00</td>\n",
       "    </tr>\n",
       "    <tr>\n",
       "      <th>orario_uscita</th>\n",
       "      <td>15:00</td>\n",
       "      <td>14:45</td>\n",
       "      <td>14:45</td>\n",
       "      <td>14:30</td>\n",
       "    </tr>\n",
       "    <tr>\n",
       "      <th>orario_pranzo</th>\n",
       "      <td>14:00</td>\n",
       "      <td>14:00</td>\n",
       "      <td>14:00</td>\n",
       "      <td>14:00</td>\n",
       "    </tr>\n",
       "  </tbody>\n",
       "</table>\n",
       "</div>"
      ]
     },
     "execution_count": 30,
     "metadata": {},
     "output_type": "execute_result"
    }
   ],
   "execution_count": 30
  },
  {
   "metadata": {},
   "cell_type": "markdown",
   "source": "## Salvare in file csv",
   "id": "84795a4ff3bc3a29"
  },
  {
   "metadata": {
    "ExecuteTime": {
     "end_time": "2024-10-02T10:53:12.485753Z",
     "start_time": "2024-10-02T10:53:12.470004Z"
    }
   },
   "cell_type": "code",
   "source": [
    "file_path = './dataset/'\n",
    "\n",
    "studenti_df.to_csv(file_path + 'orari_studenti_index.csv', index=True)\n",
    "studenti_df.to_csv(file_path + 'orari_studenti_noindex.csv', index=False)"
   ],
   "id": "3443ebb0110360d9",
   "outputs": [],
   "execution_count": 31
  }
 ],
 "metadata": {
  "kernelspec": {
   "display_name": "Python 3",
   "language": "python",
   "name": "python3"
  },
  "language_info": {
   "codemirror_mode": {
    "name": "ipython",
    "version": 2
   },
   "file_extension": ".py",
   "mimetype": "text/x-python",
   "name": "python",
   "nbconvert_exporter": "python",
   "pygments_lexer": "ipython2",
   "version": "2.7.6"
  }
 },
 "nbformat": 4,
 "nbformat_minor": 5
}
